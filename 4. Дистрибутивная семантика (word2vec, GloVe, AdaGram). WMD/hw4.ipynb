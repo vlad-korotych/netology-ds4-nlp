{
 "cells": [
  {
   "cell_type": "code",
   "execution_count": 106,
   "metadata": {},
   "outputs": [],
   "source": [
    "import json\n",
    "import bz2\n",
    "import regex\n",
    "from scipy import sparse\n",
    "import igraph as ig\n",
    "from tqdm._tqdm_notebook import tqdm_notebook as tqdm\n",
    "tqdm.pandas()\n",
    "from rusenttokenize import ru_sent_tokenize\n",
    "import re\n",
    "from pymystem3 import Mystem\n",
    "from gensim.models import Word2Vec\n",
    "from collections import Counter\n",
    "from sklearn.manifold import TSNE"
   ]
  },
  {
   "cell_type": "code",
   "execution_count": 99,
   "metadata": {},
   "outputs": [
    {
     "name": "stdout",
     "output_type": "stream",
     "text": [
      "Populating the interactive namespace from numpy and matplotlib\n"
     ]
    }
   ],
   "source": [
    "import pandas as pd\n",
    "import numpy as np\n",
    "import nltk\n",
    "from nltk import FreqDist\n",
    "import matplotlib.pyplot as plt\n",
    "import seaborn as sns\n",
    "%matplotlib inline\n",
    "%pylab inline"
   ]
  },
  {
   "cell_type": "code",
   "execution_count": 3,
   "metadata": {
    "scrolled": true
   },
   "outputs": [
    {
     "data": {
      "application/vnd.jupyter.widget-view+json": {
       "model_id": "59a02a2f9b294fccad19e866cf2797a9",
       "version_major": 2,
       "version_minor": 0
      },
      "text/plain": [
       "HBox(children=(IntProgress(value=1, bar_style='info', max=1), HTML(value='')))"
      ]
     },
     "metadata": {},
     "output_type": "display_data"
    },
    {
     "name": "stdout",
     "output_type": "stream",
     "text": [
      "\n"
     ]
    }
   ],
   "source": [
    "responses = []\n",
    "with bz2.BZ2File('banki_responses.json.bz2', 'r') as thefile:\n",
    "    for row in tqdm(thefile):\n",
    "        resp = json.loads(row)\n",
    "        if not resp['rating_not_checked'] and (len(resp['text'].split()) > 0):\n",
    "            responses.append(resp)"
   ]
  },
  {
   "cell_type": "markdown",
   "metadata": {},
   "source": [
    "#  Домашнее задание по NLP # 2 [100 баллов] \n",
    "## Составление словарей для классификации по тональности\n",
    "При классификации текстов или предложений по тональности необходимо использовать оценочные словари для предметной области, то есть, такие словари, в которых содержатся отрицательные и позитивные слова для какой-то предметной области. Идея подобных словарей основана на следующих наблюдениях: во-первых, для разных товаров используются разные оценочные слова (например бывает “захватывающая книга”, но не бывает “захватывающих лыж”), во-вторых, в контексте разных товаров одни и те же слова могут иметь разную окраску (слово “тормоз” в отзыве на велосипед имеет нейтральную окраску, в отзыве на компьютер – резко негативную, “пыль” в контексте пылесосов – нейтральную, в контексте кофемолок – положительную (“мелкий помол в пыль”)). Еще один пример: \"теплое пиво\" – это плохо, а \"теплый свитер\" – это хорошо.  \n",
    "\n",
    "Составление таких словарей в ручную – трудоемкий процесс, но, к счастью, его не сложно автоматизировать, если собрать достаточно большие корпуса отзывов. В этом домашнем задании вам предстоит попробовать реализовать один их подходов к составлению оценочных словарей, основанный на статье Inducing Domain-Specific Sentiment Lexicons from Unlabeled Corpora (https://nlp.stanford.edu/pubs/hamilton2016inducing.pdf).\n",
    "\n",
    "\n",
    "Данные для задания – уже знакомые вам отзывы на банки, собранные с нескольких сайтов Рунета. Отзывы могут быть как положительными (оценка 5), так и отрицательными (оценка 1)."
   ]
  },
  {
   "cell_type": "code",
   "execution_count": 4,
   "metadata": {},
   "outputs": [
    {
     "data": {
      "text/plain": [
       "{'city': 'г. Новосибирск',\n",
       " 'rating_not_checked': False,\n",
       " 'title': 'Не могу пользоваться услугой Сбербанк он-лайн',\n",
       " 'num_comments': 0,\n",
       " 'bank_license': 'лицензия № 1481',\n",
       " 'author': 'Foryou',\n",
       " 'bank_name': 'Сбербанк России',\n",
       " 'datetime': '2015-06-08 11:09:57',\n",
       " 'text': 'Доброго дня! Являюсь держателем зарплатной карты , выданной Сбербанком России. В 2008 году сменила фамилию, предоставила в банк \\xa0документы (копию нового паспорта, свидетельства о браке), мне перевыпустили карту на фамилию мужа ТОКАРЕВА МАРИЯ АЛЕКСАНДРОВНА (девичья \\xa0- СЕКЛЕТИНА). \\xa0 Возникла необходимость подключить услугу Сбербанк онлайн, НЕ ПОЛУЧИЛОСЬ (на главной странице на отображались мои карты). Связалась с техническим специалистом отделения Сбербанка в котором обслуживалась. Он пояснил, что в базе банка, я все ещё под девичьей фамилией СЕКЛЕТИНА. Предложил выслать сканы необходимых документов. Выслала, оставив контакты, звонка так и не дождалась. Ч/з некоторое время звоню сама, объясняю ситуацию, меня пробивают по базе - опять числюсь СЕКЛЕТИНОЙ (хотя карту уже перевыпустили еще раз на фамилию ТОКАРЕВА в связи с истечением срока обслуживания). Высылаю документы (копию паспорта и свидетельства о браке). Результат \\xa0- 0 (ноль). ПРошу помочь разобраться в этой ситуации. С уважением Токарева Мария Александровна',\n",
       " 'rating_grade': None}"
      ]
     },
     "execution_count": 4,
     "metadata": {},
     "output_type": "execute_result"
    }
   ],
   "source": [
    "responses[1]"
   ]
  },
  {
   "cell_type": "markdown",
   "metadata": {},
   "source": [
    "## Часть 1. Обучение модели word2vec [50 баллов]\n",
    "\n",
    "1. Разбейте всю коллекцию отзывов на предложения. Лемматизируйте все слова. \n",
    "2. Обучите по коллекции предложений word2vec\n",
    "3. Приведите несколько удачных и неудачных примеров решения стандартных текстов для word2vec:\n",
    "    * тест на определение ближайших слов\n",
    "    * тест на аналогии (мужчина – король : женщина – королева)\n",
    "    * тест на определение лишнего слова.\n",
    "    \n",
    "4. Постройте несколько визуализаций:\n",
    "    * TSNE для топ-100 (или топ-500) слов и найдите осмысленные кластеры слов\n",
    "    * задайте координаты для нового пространства следующим образом: одна  ось описывает отношение \"плохо – хорошо\", вторая – \"медленно – быстро\" и найдите координаты названий банков в этих координатах.  Более формально:\n",
    "    берем вектор слова \"хорошо\", вычитаем из него вектор слова \"плохо\", получаем новый вектор, который описывает разницу между хорошими и плохими словами. Берем вектор слова \"сбербанк\" и умножаем его на этот новый вектор – получаем координату по первой оси. Аналогично – для второй оси. Две координаты уже можно нарисовать на плоскости.  \n",
    " \n",
    "\n",
    "\n",
    "Ссылка на примеры визуализаций: https://towardsdatascience.com/game-of-thrones-word-embeddings-does-r-l-j-part-2-30290b1c0b4b"
   ]
  },
  {
   "cell_type": "code",
   "execution_count": 5,
   "metadata": {},
   "outputs": [
    {
     "data": {
      "text/html": [
       "<div>\n",
       "<style scoped>\n",
       "    .dataframe tbody tr th:only-of-type {\n",
       "        vertical-align: middle;\n",
       "    }\n",
       "\n",
       "    .dataframe tbody tr th {\n",
       "        vertical-align: top;\n",
       "    }\n",
       "\n",
       "    .dataframe thead th {\n",
       "        text-align: right;\n",
       "    }\n",
       "</style>\n",
       "<table border=\"1\" class=\"dataframe\">\n",
       "  <thead>\n",
       "    <tr style=\"text-align: right;\">\n",
       "      <th></th>\n",
       "      <th>author</th>\n",
       "      <th>bank_license</th>\n",
       "      <th>bank_name</th>\n",
       "      <th>city</th>\n",
       "      <th>datetime</th>\n",
       "      <th>num_comments</th>\n",
       "      <th>rating_grade</th>\n",
       "      <th>rating_not_checked</th>\n",
       "      <th>text</th>\n",
       "      <th>title</th>\n",
       "    </tr>\n",
       "  </thead>\n",
       "  <tbody>\n",
       "    <tr>\n",
       "      <th>0</th>\n",
       "      <td>uhnov1</td>\n",
       "      <td>лицензия № 2562</td>\n",
       "      <td>Бинбанк</td>\n",
       "      <td>г. Москва</td>\n",
       "      <td>2015-06-08 12:50:54</td>\n",
       "      <td>0</td>\n",
       "      <td>NaN</td>\n",
       "      <td>False</td>\n",
       "      <td>Добрый день! Я не являюсь клиентом банка и пор...</td>\n",
       "      <td>Жалоба</td>\n",
       "    </tr>\n",
       "    <tr>\n",
       "      <th>1</th>\n",
       "      <td>Foryou</td>\n",
       "      <td>лицензия № 1481</td>\n",
       "      <td>Сбербанк России</td>\n",
       "      <td>г. Новосибирск</td>\n",
       "      <td>2015-06-08 11:09:57</td>\n",
       "      <td>0</td>\n",
       "      <td>NaN</td>\n",
       "      <td>False</td>\n",
       "      <td>Доброго дня! Являюсь держателем зарплатной кар...</td>\n",
       "      <td>Не могу пользоваться услугой Сбербанк он-лайн</td>\n",
       "    </tr>\n",
       "    <tr>\n",
       "      <th>2</th>\n",
       "      <td>Vladimir84</td>\n",
       "      <td>лицензия № 2562</td>\n",
       "      <td>Бинбанк</td>\n",
       "      <td>г. Москва</td>\n",
       "      <td>2015-06-05 20:14:28</td>\n",
       "      <td>1</td>\n",
       "      <td>NaN</td>\n",
       "      <td>False</td>\n",
       "      <td>Здравствуйте!  Дублирую свое заявление от 03.0...</td>\n",
       "      <td>Двойное списание за один товар.</td>\n",
       "    </tr>\n",
       "    <tr>\n",
       "      <th>3</th>\n",
       "      <td>643609</td>\n",
       "      <td>лицензия № 1481</td>\n",
       "      <td>Сбербанк России</td>\n",
       "      <td>г. Ставрополь</td>\n",
       "      <td>2015-06-05 13:51:01</td>\n",
       "      <td>2</td>\n",
       "      <td>NaN</td>\n",
       "      <td>False</td>\n",
       "      <td>Добрый день!! Я открыл расчетный счет в СберБа...</td>\n",
       "      <td>Меняют проценты комиссии  не предупредив и не ...</td>\n",
       "    </tr>\n",
       "    <tr>\n",
       "      <th>4</th>\n",
       "      <td>anfisa-2003</td>\n",
       "      <td>лицензия № 2766</td>\n",
       "      <td>ОТП Банк</td>\n",
       "      <td>г. Челябинск</td>\n",
       "      <td>2015-06-05 10:58:12</td>\n",
       "      <td>1</td>\n",
       "      <td>NaN</td>\n",
       "      <td>False</td>\n",
       "      <td>04.03.2015 г. взяла кредит в вашем банке, заяв...</td>\n",
       "      <td>Верните денежные средства за страховку</td>\n",
       "    </tr>\n",
       "  </tbody>\n",
       "</table>\n",
       "</div>"
      ],
      "text/plain": [
       "        author     bank_license        bank_name            city  \\\n",
       "0       uhnov1  лицензия № 2562          Бинбанк       г. Москва   \n",
       "1       Foryou  лицензия № 1481  Сбербанк России  г. Новосибирск   \n",
       "2   Vladimir84  лицензия № 2562          Бинбанк       г. Москва   \n",
       "3       643609  лицензия № 1481  Сбербанк России   г. Ставрополь   \n",
       "4  anfisa-2003  лицензия № 2766         ОТП Банк    г. Челябинск   \n",
       "\n",
       "              datetime  num_comments  rating_grade  rating_not_checked  \\\n",
       "0  2015-06-08 12:50:54             0           NaN               False   \n",
       "1  2015-06-08 11:09:57             0           NaN               False   \n",
       "2  2015-06-05 20:14:28             1           NaN               False   \n",
       "3  2015-06-05 13:51:01             2           NaN               False   \n",
       "4  2015-06-05 10:58:12             1           NaN               False   \n",
       "\n",
       "                                                text  \\\n",
       "0  Добрый день! Я не являюсь клиентом банка и пор...   \n",
       "1  Доброго дня! Являюсь держателем зарплатной кар...   \n",
       "2  Здравствуйте!  Дублирую свое заявление от 03.0...   \n",
       "3  Добрый день!! Я открыл расчетный счет в СберБа...   \n",
       "4  04.03.2015 г. взяла кредит в вашем банке, заяв...   \n",
       "\n",
       "                                               title  \n",
       "0                                             Жалоба  \n",
       "1      Не могу пользоваться услугой Сбербанк он-лайн  \n",
       "2                    Двойное списание за один товар.  \n",
       "3  Меняют проценты комиссии  не предупредив и не ...  \n",
       "4             Верните денежные средства за страховку  "
      ]
     },
     "execution_count": 5,
     "metadata": {},
     "output_type": "execute_result"
    }
   ],
   "source": [
    "# Перегоняем отзывы в dataframe\n",
    "df = pd.DataFrame(responses)\n",
    "df.head()"
   ]
  },
  {
   "cell_type": "code",
   "execution_count": 6,
   "metadata": {},
   "outputs": [
    {
     "data": {
      "text/plain": [
       "'Доброго дня! Являюсь держателем зарплатной карты , выданной Сбербанком России. В 2008 году сменила фамилию, предоставила в банк \\xa0документы (копию нового паспорта, свидетельства о браке), мне перевыпустили карту на фамилию мужа ТОКАРЕВА МАРИЯ АЛЕКСАНДРОВНА (девичья \\xa0- СЕКЛЕТИНА). \\xa0 Возникла необходимость подключить услугу Сбербанк онлайн, НЕ ПОЛУЧИЛОСЬ (на главной странице на отображались мои карты). Связалась с техническим специалистом отделения Сбербанка в котором обслуживалась. Он пояснил, что в базе банка, я все ещё под девичьей фамилией СЕКЛЕТИНА. Предложил выслать сканы необходимых документов. Выслала, оставив контакты, звонка так и не дождалась. Ч/з некоторое время звоню сама, объясняю ситуацию, меня пробивают по базе - опять числюсь СЕКЛЕТИНОЙ (хотя карту уже перевыпустили еще раз на фамилию ТОКАРЕВА в связи с истечением срока обслуживания). Высылаю документы (копию паспорта и свидетельства о браке). Результат \\xa0- 0 (ноль). ПРошу помочь разобраться в этой ситуации. С уважением Токарева Мария Александровна'"
      ]
     },
     "execution_count": 6,
     "metadata": {},
     "output_type": "execute_result"
    }
   ],
   "source": [
    "df.loc[1]['text']"
   ]
  },
  {
   "cell_type": "code",
   "execution_count": 7,
   "metadata": {},
   "outputs": [],
   "source": [
    "regex = re.compile(\"[а-я]+\")\n",
    "\n",
    "def words_only(text, regex=regex):\n",
    "    try:\n",
    "        return \" \".join(regex.findall(text))\n",
    "    except:\n",
    "        return \"\""
   ]
  },
  {
   "cell_type": "code",
   "execution_count": 10,
   "metadata": {},
   "outputs": [
    {
     "data": {
      "text/plain": [
       "'доброго дня являюсь держателем зарплатной карты выданной сбербанком россии в году сменила фамилию предоставила в банк документы копию нового паспорта свидетельства о браке мне перевыпустили карту на фамилию мужа токарева мария александровна девичья секлетина возникла необходимость подключить услугу сбербанк онлайн не получилось на главной странице на отображались мои карты связалась с техническим специалистом отделения сбербанка в котором обслуживалась он пояснил что в базе банка я все ещ под девичьей фамилией секлетина предложил выслать сканы необходимых документов выслала оставив контакты звонка так и не дождалась ч з некоторое время звоню сама объясняю ситуацию меня пробивают по базе опять числюсь секлетиной хотя карту уже перевыпустили еще раз на фамилию токарева в связи с истечением срока обслуживания высылаю документы копию паспорта и свидетельства о браке результат ноль прошу помочь разобраться в этой ситуации с уважением токарева мария александровна'"
      ]
     },
     "execution_count": 10,
     "metadata": {},
     "output_type": "execute_result"
    }
   ],
   "source": [
    "words_only(df.loc[1]['text'].lower())"
   ]
  },
  {
   "cell_type": "code",
   "execution_count": 8,
   "metadata": {},
   "outputs": [],
   "source": [
    "def sentences(text):\n",
    "    try:\n",
    "        return [words_only(sent.lower()) for sent in ru_sent_tokenize(text)]\n",
    "    except:\n",
    "        return []    \n"
   ]
  },
  {
   "cell_type": "code",
   "execution_count": 12,
   "metadata": {},
   "outputs": [
    {
     "data": {
      "text/plain": [
       "['доброго дня',\n",
       " 'являюсь держателем зарплатной карты выданной сбербанком россии',\n",
       " 'в году сменила фамилию предоставила в банк документы копию нового паспорта свидетельства о браке мне перевыпустили карту на фамилию мужа токарева мария александровна девичья секлетина',\n",
       " 'возникла необходимость подключить услугу сбербанк онлайн не получилось на главной странице на отображались мои карты',\n",
       " 'связалась с техническим специалистом отделения сбербанка в котором обслуживалась',\n",
       " 'он пояснил что в базе банка я все ещ под девичьей фамилией секлетина',\n",
       " 'предложил выслать сканы необходимых документов',\n",
       " 'выслала оставив контакты звонка так и не дождалась',\n",
       " 'ч з некоторое время звоню сама объясняю ситуацию меня пробивают по базе опять числюсь секлетиной хотя карту уже перевыпустили еще раз на фамилию токарева в связи с истечением срока обслуживания',\n",
       " 'высылаю документы копию паспорта и свидетельства о браке',\n",
       " 'результат ноль',\n",
       " 'прошу помочь разобраться в этой ситуации',\n",
       " 'с уважением токарева мария александровна']"
      ]
     },
     "execution_count": 12,
     "metadata": {},
     "output_type": "execute_result"
    }
   ],
   "source": [
    "sentences(df.loc[1]['text'])"
   ]
  },
  {
   "cell_type": "code",
   "execution_count": 14,
   "metadata": {},
   "outputs": [],
   "source": [
    "from nltk.corpus import stopwords\n",
    "mystopwords = stopwords.words('russian') + ['это', 'наш' , 'тыс', 'млн', 'млрд', 'также',  'т', 'д']\n",
    "def remove_stopwords(sentences, mystopwords = mystopwords):\n",
    "    try:\n",
    "        out = []\n",
    "        for sentence in sentences:\n",
    "            out.append(\" \".join([token for token in sentence.split() if not token in mystopwords]))\n",
    "        return out\n",
    "    except:\n",
    "        return []"
   ]
  },
  {
   "cell_type": "code",
   "execution_count": 15,
   "metadata": {},
   "outputs": [
    {
     "data": {
      "text/plain": [
       "['доброго дня',\n",
       " 'являюсь держателем зарплатной карты выданной сбербанком россии',\n",
       " 'году сменила фамилию предоставила банк документы копию нового паспорта свидетельства браке перевыпустили карту фамилию мужа токарева мария александровна девичья секлетина',\n",
       " 'возникла необходимость подключить услугу сбербанк онлайн получилось главной странице отображались мои карты',\n",
       " 'связалась техническим специалистом отделения сбербанка котором обслуживалась',\n",
       " 'пояснил базе банка ещ девичьей фамилией секлетина',\n",
       " 'предложил выслать сканы необходимых документов',\n",
       " 'выслала оставив контакты звонка дождалась',\n",
       " 'ч з некоторое время звоню сама объясняю ситуацию пробивают базе числюсь секлетиной хотя карту перевыпустили фамилию токарева связи истечением срока обслуживания',\n",
       " 'высылаю документы копию паспорта свидетельства браке',\n",
       " 'результат ноль',\n",
       " 'прошу помочь разобраться ситуации',\n",
       " 'уважением токарева мария александровна']"
      ]
     },
     "execution_count": 15,
     "metadata": {},
     "output_type": "execute_result"
    }
   ],
   "source": [
    "remove_stopwords(sentences(df.loc[1]['text']))"
   ]
  },
  {
   "cell_type": "code",
   "execution_count": 16,
   "metadata": {},
   "outputs": [],
   "source": [
    "mystem = Mystem()\n",
    "def mystem_lemmas(sentences, mystem=mystem):\n",
    "    res = []\n",
    "    for sentence in sentences:\n",
    "        try:\n",
    "            res.append([l for l in mystem.lemmatize(sentence) if l.isalpha()])\n",
    "        except:\n",
    "            pass\n",
    "    return res"
   ]
  },
  {
   "cell_type": "code",
   "execution_count": 25,
   "metadata": {},
   "outputs": [],
   "source": [
    "mystoplemmas = ['который','прошлый','сей', 'свой', 'наш', 'мочь']"
   ]
  },
  {
   "cell_type": "code",
   "execution_count": 30,
   "metadata": {},
   "outputs": [],
   "source": [
    "def remove_stoplemmas(sentences):\n",
    "    res = []\n",
    "    for sentence in sentences:\n",
    "        if len(sentence) > 0:\n",
    "            res.append([lemma for lemma in sentence if not lemma in mystoplemmas])\n",
    "    return res"
   ]
  },
  {
   "cell_type": "code",
   "execution_count": 41,
   "metadata": {},
   "outputs": [],
   "source": [
    "def preprocessing(text):\n",
    "    sents = sentences(text)\n",
    "    no_stopwords = remove_stopwords(sents)\n",
    "    lemmas = mystem_lemmas(no_stopwords)\n",
    "    no_stoplemmas = remove_stoplemmas(lemmas)\n",
    "    flat_lemmas = [lemma for sentence in no_stoplemmas for lemma in sentence]\n",
    "    return flat_lemmas"
   ]
  },
  {
   "cell_type": "code",
   "execution_count": 42,
   "metadata": {},
   "outputs": [
    {
     "name": "stdout",
     "output_type": "stream",
     "text": [
      "CPU times: user 0 ns, sys: 0 ns, total: 0 ns\n",
      "Wall time: 7.77 ms\n"
     ]
    },
    {
     "data": {
      "text/plain": [
       "['добрый',\n",
       " 'день',\n",
       " 'являться',\n",
       " 'держатель',\n",
       " 'зарплатной',\n",
       " 'карта',\n",
       " 'выдавать',\n",
       " 'сбербанк',\n",
       " 'россия',\n",
       " 'год',\n",
       " 'сменить',\n",
       " 'фамилия',\n",
       " 'предоставлять',\n",
       " 'банк',\n",
       " 'документ',\n",
       " 'копия',\n",
       " 'новый',\n",
       " 'паспорт',\n",
       " 'свидетельство',\n",
       " 'брак',\n",
       " 'перевыпускать',\n",
       " 'карта',\n",
       " 'фамилия',\n",
       " 'муж',\n",
       " 'токарева',\n",
       " 'мария',\n",
       " 'александровна',\n",
       " 'девичий',\n",
       " 'секлетина',\n",
       " 'возникать',\n",
       " 'необходимость',\n",
       " 'подключать',\n",
       " 'услуга',\n",
       " 'сбербанк',\n",
       " 'онлайн',\n",
       " 'получаться',\n",
       " 'главный',\n",
       " 'страница',\n",
       " 'отображаться',\n",
       " 'мой',\n",
       " 'карта',\n",
       " 'связываться',\n",
       " 'технический',\n",
       " 'специалист',\n",
       " 'отделение',\n",
       " 'сбербанк',\n",
       " 'обслуживаться',\n",
       " 'пояснять',\n",
       " 'база',\n",
       " 'банк',\n",
       " 'ещ',\n",
       " 'девичий',\n",
       " 'фамилия',\n",
       " 'секлетина',\n",
       " 'предлагать',\n",
       " 'высылать',\n",
       " 'скан',\n",
       " 'необходимый',\n",
       " 'документ',\n",
       " 'высылать',\n",
       " 'оставлять',\n",
       " 'контакт',\n",
       " 'звонок',\n",
       " 'дождаться',\n",
       " 'ч',\n",
       " 'з',\n",
       " 'некоторый',\n",
       " 'время',\n",
       " 'звонить',\n",
       " 'сам',\n",
       " 'объяснять',\n",
       " 'ситуация',\n",
       " 'пробивать',\n",
       " 'база',\n",
       " 'числиться',\n",
       " 'секлетина',\n",
       " 'хотя',\n",
       " 'карта',\n",
       " 'перевыпускать',\n",
       " 'фамилия',\n",
       " 'токарева',\n",
       " 'связь',\n",
       " 'истечение',\n",
       " 'срок',\n",
       " 'обслуживание',\n",
       " 'высылать',\n",
       " 'документ',\n",
       " 'копия',\n",
       " 'паспорт',\n",
       " 'свидетельство',\n",
       " 'брак',\n",
       " 'результат',\n",
       " 'ноль',\n",
       " 'просить',\n",
       " 'помогать',\n",
       " 'разбираться',\n",
       " 'ситуация',\n",
       " 'уважение',\n",
       " 'токарева',\n",
       " 'мария',\n",
       " 'александровна']"
      ]
     },
     "execution_count": 42,
     "metadata": {},
     "output_type": "execute_result"
    }
   ],
   "source": [
    "%%time\n",
    "preprocessing(df.loc[1]['text'])"
   ]
  },
  {
   "cell_type": "code",
   "execution_count": 43,
   "metadata": {},
   "outputs": [
    {
     "data": {
      "application/vnd.jupyter.widget-view+json": {
       "model_id": "6e175a0e9677454ca780a76ff12ce02f",
       "version_major": 2,
       "version_minor": 0
      },
      "text/plain": [
       "HBox(children=(IntProgress(value=0, max=153499), HTML(value='')))"
      ]
     },
     "metadata": {},
     "output_type": "display_data"
    },
    {
     "name": "stdout",
     "output_type": "stream",
     "text": [
      "\n"
     ]
    }
   ],
   "source": [
    "df['lemmas'] = df['text'].progress_apply(preprocessing)"
   ]
  },
  {
   "cell_type": "code",
   "execution_count": 44,
   "metadata": {},
   "outputs": [],
   "source": [
    "df.to_pickle('df.zip')"
   ]
  },
  {
   "cell_type": "code",
   "execution_count": 45,
   "metadata": {},
   "outputs": [
    {
     "data": {
      "text/html": [
       "<div>\n",
       "<style scoped>\n",
       "    .dataframe tbody tr th:only-of-type {\n",
       "        vertical-align: middle;\n",
       "    }\n",
       "\n",
       "    .dataframe tbody tr th {\n",
       "        vertical-align: top;\n",
       "    }\n",
       "\n",
       "    .dataframe thead th {\n",
       "        text-align: right;\n",
       "    }\n",
       "</style>\n",
       "<table border=\"1\" class=\"dataframe\">\n",
       "  <thead>\n",
       "    <tr style=\"text-align: right;\">\n",
       "      <th></th>\n",
       "      <th>author</th>\n",
       "      <th>bank_license</th>\n",
       "      <th>bank_name</th>\n",
       "      <th>city</th>\n",
       "      <th>datetime</th>\n",
       "      <th>num_comments</th>\n",
       "      <th>rating_grade</th>\n",
       "      <th>rating_not_checked</th>\n",
       "      <th>text</th>\n",
       "      <th>title</th>\n",
       "      <th>lemmas</th>\n",
       "    </tr>\n",
       "  </thead>\n",
       "  <tbody>\n",
       "    <tr>\n",
       "      <th>0</th>\n",
       "      <td>uhnov1</td>\n",
       "      <td>лицензия № 2562</td>\n",
       "      <td>Бинбанк</td>\n",
       "      <td>г. Москва</td>\n",
       "      <td>2015-06-08 12:50:54</td>\n",
       "      <td>0</td>\n",
       "      <td>NaN</td>\n",
       "      <td>False</td>\n",
       "      <td>Добрый день! Я не являюсь клиентом банка и пор...</td>\n",
       "      <td>Жалоба</td>\n",
       "      <td>[добрый, день, являться, клиент, банк, поручит...</td>\n",
       "    </tr>\n",
       "    <tr>\n",
       "      <th>1</th>\n",
       "      <td>Foryou</td>\n",
       "      <td>лицензия № 1481</td>\n",
       "      <td>Сбербанк России</td>\n",
       "      <td>г. Новосибирск</td>\n",
       "      <td>2015-06-08 11:09:57</td>\n",
       "      <td>0</td>\n",
       "      <td>NaN</td>\n",
       "      <td>False</td>\n",
       "      <td>Доброго дня! Являюсь держателем зарплатной кар...</td>\n",
       "      <td>Не могу пользоваться услугой Сбербанк он-лайн</td>\n",
       "      <td>[добрый, день, являться, держатель, зарплатной...</td>\n",
       "    </tr>\n",
       "    <tr>\n",
       "      <th>2</th>\n",
       "      <td>Vladimir84</td>\n",
       "      <td>лицензия № 2562</td>\n",
       "      <td>Бинбанк</td>\n",
       "      <td>г. Москва</td>\n",
       "      <td>2015-06-05 20:14:28</td>\n",
       "      <td>1</td>\n",
       "      <td>NaN</td>\n",
       "      <td>False</td>\n",
       "      <td>Здравствуйте!  Дублирую свое заявление от 03.0...</td>\n",
       "      <td>Двойное списание за один товар.</td>\n",
       "      <td>[здравствовать, дублировать, заявление, можайс...</td>\n",
       "    </tr>\n",
       "    <tr>\n",
       "      <th>3</th>\n",
       "      <td>643609</td>\n",
       "      <td>лицензия № 1481</td>\n",
       "      <td>Сбербанк России</td>\n",
       "      <td>г. Ставрополь</td>\n",
       "      <td>2015-06-05 13:51:01</td>\n",
       "      <td>2</td>\n",
       "      <td>NaN</td>\n",
       "      <td>False</td>\n",
       "      <td>Добрый день!! Я открыл расчетный счет в СберБа...</td>\n",
       "      <td>Меняют проценты комиссии  не предупредив и не ...</td>\n",
       "      <td>[добрый, день, открывать, расчетный, счет, сбе...</td>\n",
       "    </tr>\n",
       "    <tr>\n",
       "      <th>4</th>\n",
       "      <td>anfisa-2003</td>\n",
       "      <td>лицензия № 2766</td>\n",
       "      <td>ОТП Банк</td>\n",
       "      <td>г. Челябинск</td>\n",
       "      <td>2015-06-05 10:58:12</td>\n",
       "      <td>1</td>\n",
       "      <td>NaN</td>\n",
       "      <td>False</td>\n",
       "      <td>04.03.2015 г. взяла кредит в вашем банке, заяв...</td>\n",
       "      <td>Верните денежные средства за страховку</td>\n",
       "      <td>[г, взять, кредит, ваш, банк, заявлять, я, сум...</td>\n",
       "    </tr>\n",
       "  </tbody>\n",
       "</table>\n",
       "</div>"
      ],
      "text/plain": [
       "        author     bank_license        bank_name            city  \\\n",
       "0       uhnov1  лицензия № 2562          Бинбанк       г. Москва   \n",
       "1       Foryou  лицензия № 1481  Сбербанк России  г. Новосибирск   \n",
       "2   Vladimir84  лицензия № 2562          Бинбанк       г. Москва   \n",
       "3       643609  лицензия № 1481  Сбербанк России   г. Ставрополь   \n",
       "4  anfisa-2003  лицензия № 2766         ОТП Банк    г. Челябинск   \n",
       "\n",
       "              datetime  num_comments  rating_grade  rating_not_checked  \\\n",
       "0  2015-06-08 12:50:54             0           NaN               False   \n",
       "1  2015-06-08 11:09:57             0           NaN               False   \n",
       "2  2015-06-05 20:14:28             1           NaN               False   \n",
       "3  2015-06-05 13:51:01             2           NaN               False   \n",
       "4  2015-06-05 10:58:12             1           NaN               False   \n",
       "\n",
       "                                                text  \\\n",
       "0  Добрый день! Я не являюсь клиентом банка и пор...   \n",
       "1  Доброго дня! Являюсь держателем зарплатной кар...   \n",
       "2  Здравствуйте!  Дублирую свое заявление от 03.0...   \n",
       "3  Добрый день!! Я открыл расчетный счет в СберБа...   \n",
       "4  04.03.2015 г. взяла кредит в вашем банке, заяв...   \n",
       "\n",
       "                                               title  \\\n",
       "0                                             Жалоба   \n",
       "1      Не могу пользоваться услугой Сбербанк он-лайн   \n",
       "2                    Двойное списание за один товар.   \n",
       "3  Меняют проценты комиссии  не предупредив и не ...   \n",
       "4             Верните денежные средства за страховку   \n",
       "\n",
       "                                              lemmas  \n",
       "0  [добрый, день, являться, клиент, банк, поручит...  \n",
       "1  [добрый, день, являться, держатель, зарплатной...  \n",
       "2  [здравствовать, дублировать, заявление, можайс...  \n",
       "3  [добрый, день, открывать, расчетный, счет, сбе...  \n",
       "4  [г, взять, кредит, ваш, банк, заявлять, я, сум...  "
      ]
     },
     "execution_count": 45,
     "metadata": {},
     "output_type": "execute_result"
    }
   ],
   "source": [
    "df = pd.read_pickle('df.zip')\n",
    "df.head()"
   ]
  },
  {
   "cell_type": "code",
   "execution_count": 50,
   "metadata": {},
   "outputs": [
    {
     "data": {
      "application/vnd.jupyter.widget-view+json": {
       "model_id": "149880006d2e4b8394d105be41bbd9fa",
       "version_major": 2,
       "version_minor": 0
      },
      "text/plain": [
       "HBox(children=(IntProgress(value=0, max=153499), HTML(value='')))"
      ]
     },
     "metadata": {},
     "output_type": "display_data"
    },
    {
     "name": "stdout",
     "output_type": "stream",
     "text": [
      "\n",
      "('банк', 623377)\n",
      "('карта', 334996)\n",
      "('деньги', 179734)\n",
      "('день', 173041)\n",
      "('мой', 163042)\n",
      "('кредит', 156177)\n",
      "('отделение', 144050)\n",
      "('клиент', 136892)\n",
      "('сотрудник', 134168)\n",
      "('счет', 126894)\n"
     ]
    }
   ],
   "source": [
    "cnt_lemmas = Counter()\n",
    "n_types_lemmas = []\n",
    "n_tokens_lemmas = []\n",
    "tokens_lemmas = []\n",
    "for index, row in tqdm(df.iterrows(), total = len(df)):\n",
    "    tokens_lemmas = row['lemmas']\n",
    "    cnt_lemmas.update(tokens_lemmas)\n",
    "    n_types_lemmas.append(len(cnt_lemmas))\n",
    "    n_tokens_lemmas.append(sum(list(cnt_lemmas.values())))\n",
    "for i in cnt_lemmas.most_common(10):\n",
    "    print(i)"
   ]
  },
  {
   "cell_type": "code",
   "execution_count": 52,
   "metadata": {},
   "outputs": [
    {
     "data": {
      "image/png": "[encoded data removed]",
      "text/plain": [
       "<Figure size 432x288 with 1 Axes>"
      ]
     },
     "metadata": {
      "needs_background": "light"
     },
     "output_type": "display_data"
    }
   ],
   "source": [
    "freqs = list(cnt_lemmas.values())\n",
    "freqs = sorted(freqs, reverse = True)\n",
    "\n",
    "fig, ax = plt.subplots()\n",
    "ax.plot(freqs[:300], range(300))\n",
    "plt.show()"
   ]
  },
  {
   "cell_type": "code",
   "execution_count": 53,
   "metadata": {},
   "outputs": [
    {
     "data": {
      "image/png": "[encoded data removed]",
      "text/plain": [
       "<Figure size 432x288 with 1 Axes>"
      ]
     },
     "metadata": {
      "needs_background": "light"
     },
     "output_type": "display_data"
    }
   ],
   "source": [
    "fig, ax = plt.subplots()\n",
    "ax.plot(n_tokens_lemmas, n_types_lemmas)\n",
    "plt.show()"
   ]
  },
  {
   "cell_type": "code",
   "execution_count": 67,
   "metadata": {},
   "outputs": [],
   "source": [
    "w2vec = Word2Vec(sentences=df['lemmas'], min_count=20, workers=4)"
   ]
  },
  {
   "cell_type": "code",
   "execution_count": 69,
   "metadata": {},
   "outputs": [],
   "source": [
    "w2vec.save('w2vec.model')"
   ]
  },
  {
   "cell_type": "code",
   "execution_count": 70,
   "metadata": {},
   "outputs": [],
   "source": [
    "w2vec = Word2Vec.load('w2vec.model')"
   ]
  },
  {
   "cell_type": "code",
   "execution_count": 72,
   "metadata": {},
   "outputs": [
    {
     "data": {
      "text/plain": [
       "[('автокредит', 0.8289893865585327),\n",
       " ('кредит', 0.7014356851577759),\n",
       " ('ипотечный', 0.6853820085525513),\n",
       " ('новостройка', 0.6682042479515076),\n",
       " ('потребкредит', 0.655286431312561),\n",
       " ('жилье', 0.6291305422782898),\n",
       " ('вторичка', 0.6225967407226562),\n",
       " ('недвижимость', 0.6133959293365479),\n",
       " ('дельтакредит', 0.5926231741905212),\n",
       " ('квартира', 0.5800814032554626)]"
      ]
     },
     "execution_count": 72,
     "metadata": {},
     "output_type": "execute_result"
    }
   ],
   "source": [
    "w2vec.wv.most_similar('ипотека')"
   ]
  },
  {
   "cell_type": "markdown",
   "metadata": {},
   "source": [
    "Тут аналогии расщеплются на две ветки - ипотека как банковский продукт (автокредит, кредит) и как нечто, имеющее отношение к недвижимости"
   ]
  },
  {
   "cell_type": "code",
   "execution_count": 84,
   "metadata": {},
   "outputs": [
    {
     "data": {
      "text/plain": [
       "'новостройка'"
      ]
     },
     "execution_count": 84,
     "metadata": {},
     "output_type": "execute_result"
    }
   ],
   "source": [
    "w2vec.wv.doesnt_match('автокредит кредит новостройка'.split())"
   ]
  },
  {
   "cell_type": "code",
   "execution_count": 85,
   "metadata": {},
   "outputs": [
    {
     "data": {
      "text/plain": [
       "'кредит'"
      ]
     },
     "execution_count": 85,
     "metadata": {},
     "output_type": "execute_result"
    }
   ],
   "source": [
    "w2vec.wv.doesnt_match('автокредит кредит ипотека'.split())"
   ]
  },
  {
   "cell_type": "markdown",
   "metadata": {},
   "source": [
    "В данном случае, более логично исключить автокредит, т.к. ипотека является кредитом"
   ]
  },
  {
   "cell_type": "code",
   "execution_count": 86,
   "metadata": {},
   "outputs": [
    {
     "data": {
      "text/plain": [
       "'кредит'"
      ]
     },
     "execution_count": 86,
     "metadata": {},
     "output_type": "execute_result"
    }
   ],
   "source": [
    "w2vec.wv.doesnt_match('вклад кредит депозит'.split())"
   ]
  },
  {
   "cell_type": "code",
   "execution_count": 73,
   "metadata": {},
   "outputs": [
    {
     "data": {
      "text/plain": [
       "[('вкладчик', 0.6693146228790283),\n",
       " ('уважительный', 0.5390167236328125),\n",
       " ('наплевательский', 0.5268230438232422),\n",
       " ('клиентка', 0.5107886791229248),\n",
       " ('пользователь', 0.4935833811759949),\n",
       " ('свинский', 0.4843981862068176),\n",
       " ('скотский', 0.47814786434173584),\n",
       " ('клиентоориентированный', 0.46782824397087097),\n",
       " ('заемщик', 0.46553176641464233),\n",
       " ('халатно', 0.4643348455429077)]"
      ]
     },
     "execution_count": 73,
     "metadata": {},
     "output_type": "execute_result"
    }
   ],
   "source": [
    "w2vec.wv.most_similar('клиент')"
   ]
  },
  {
   "cell_type": "markdown",
   "metadata": {},
   "source": [
    "Тут сразу и хороший и плохой пример - роли клиента перемешаны с оценочными суждениями"
   ]
  },
  {
   "cell_type": "code",
   "execution_count": 78,
   "metadata": {},
   "outputs": [
    {
     "data": {
      "text/plain": [
       "'уважительный'"
      ]
     },
     "execution_count": 78,
     "metadata": {},
     "output_type": "execute_result"
    }
   ],
   "source": [
    "w2vec.wv.doesnt_match('свинский скотский уважительный'.split())"
   ]
  },
  {
   "cell_type": "code",
   "execution_count": 79,
   "metadata": {},
   "outputs": [
    {
     "data": {
      "text/plain": [
       "'клиентка'"
      ]
     },
     "execution_count": 79,
     "metadata": {},
     "output_type": "execute_result"
    }
   ],
   "source": [
    "w2vec.wv.doesnt_match('клиент вкладчик клиентка'.split())"
   ]
  },
  {
   "cell_type": "markdown",
   "metadata": {},
   "source": [
    "Отбор произошел по половому признаку, хотя логичнее было бы исключить вкладчика"
   ]
  },
  {
   "cell_type": "code",
   "execution_count": 93,
   "metadata": {},
   "outputs": [
    {
     "data": {
      "text/plain": [
       "[('вкладчик', 0.6359438896179199),\n",
       " ('депозит', 0.5033464431762695),\n",
       " ('капитализация', 0.43838679790496826),\n",
       " ('твклад', 0.43125948309898376),\n",
       " ('сохранение', 0.4241482615470886),\n",
       " ('фк', 0.4230743944644928),\n",
       " ('исполнение', 0.4074132740497589),\n",
       " ('бпф', 0.40628722310066223),\n",
       " ('завещательный', 0.4012078642845154),\n",
       " ('смартвклад', 0.4005819857120514)]"
      ]
     },
     "execution_count": 93,
     "metadata": {},
     "output_type": "execute_result"
    }
   ],
   "source": [
    "w2vec.wv.most_similar(positive=['заемщик', 'вклад'], negative=['кредит'])"
   ]
  },
  {
   "cell_type": "markdown",
   "metadata": {},
   "source": [
    "Заемщик + вклад - кредит ~ вкладчик"
   ]
  },
  {
   "cell_type": "code",
   "execution_count": 97,
   "metadata": {},
   "outputs": [
    {
     "data": {
      "text/plain": [
       "[('автокредит', 0.87245774269104),\n",
       " ('потребительский', 0.6631335616111755),\n",
       " ('потребкредит', 0.646970272064209),\n",
       " ('кредит', 0.6453974843025208),\n",
       " ('потреба', 0.6379214525222778),\n",
       " ('авто', 0.6351451277732849),\n",
       " ('форд', 0.6265923976898193),\n",
       " ('ипотечный', 0.6124078035354614),\n",
       " ('ниссан', 0.5786299705505371),\n",
       " ('пежо', 0.5656410455703735)]"
      ]
     },
     "execution_count": 97,
     "metadata": {},
     "output_type": "execute_result"
    }
   ],
   "source": [
    "w2vec.wv.most_similar(positive=['ипотека', 'автомобиль'], negative=['квартира'])"
   ]
  },
  {
   "cell_type": "markdown",
   "metadata": {},
   "source": [
    "Ипотека + автомобиль - квартира ~ автокредит"
   ]
  },
  {
   "cell_type": "code",
   "execution_count": null,
   "metadata": {},
   "outputs": [],
   "source": []
  },
  {
   "cell_type": "code",
   "execution_count": 139,
   "metadata": {},
   "outputs": [
    {
     "data": {
      "application/vnd.jupyter.widget-view+json": {
       "model_id": "a3ca9c3c0def459589fb987220252323",
       "version_major": 2,
       "version_minor": 0
      },
      "text/plain": [
       "HBox(children=(IntProgress(value=0, max=153499), HTML(value='')))"
      ]
     },
     "metadata": {},
     "output_type": "display_data"
    },
    {
     "name": "stdout",
     "output_type": "stream",
     "text": [
      "\n",
      "['банк', 'карта', 'деньги', 'день', 'мой', 'кредит', 'отделение', 'клиент', 'сотрудник', 'счет', 'сказать', 'сумма', 'получать', 'заявление', 'год']\n"
     ]
    }
   ],
   "source": [
    "top_words = []\n",
    "\n",
    "fd = FreqDist()\n",
    "for text in tqdm(df.lemmas):\n",
    "    fd.update(text)\n",
    "for i in fd.most_common(500):\n",
    "    top_words.append(i[0])\n",
    "print(top_words[:15])"
   ]
  },
  {
   "cell_type": "code",
   "execution_count": 140,
   "metadata": {},
   "outputs": [
    {
     "data": {
      "text/plain": [
       "425"
      ]
     },
     "execution_count": 140,
     "metadata": {},
     "output_type": "execute_result"
    }
   ],
   "source": [
    "top_words = [w for w in top_words if len(w) > 4]\n",
    "len(top_words)"
   ]
  },
  {
   "cell_type": "code",
   "execution_count": 141,
   "metadata": {},
   "outputs": [],
   "source": [
    "top_words_vec = w2vec.wv[top_words]"
   ]
  },
  {
   "cell_type": "code",
   "execution_count": 142,
   "metadata": {},
   "outputs": [],
   "source": [
    "tsne = TSNE(n_components=2, random_state=42)"
   ]
  },
  {
   "cell_type": "code",
   "execution_count": 143,
   "metadata": {},
   "outputs": [],
   "source": [
    "top_words_tsne = tsne.fit_transform(top_words_vec)"
   ]
  },
  {
   "cell_type": "code",
   "execution_count": 144,
   "metadata": {},
   "outputs": [
    {
     "data": {
      "text/html": [
       "\n",
       "    <div class=\"bk-root\">\n",
       "        <a href=\"https://bokeh.pydata.org\" target=\"_blank\" class=\"bk-logo bk-logo-small bk-logo-notebook\"></a>\n",
       "        <span id=\"1634\">Loading BokehJS ...</span>\n",
       "    </div>"
      ]
     },
     "metadata": {},
     "output_type": "display_data"
    },
    {
     "data": {
      "application/javascript": [
       "\n",
       "(function(root) {\n",
       "  function now() {\n",
       "    return new Date();\n",
       "  }\n",
       "\n",
       "  var force = true;\n",
       "\n",
       "  if (typeof (root._bokeh_onload_callbacks) === \"undefined\" || force === true) {\n",
       "    root._bokeh_onload_callbacks = [];\n",
       "    root._bokeh_is_loading = undefined;\n",
       "  }\n",
       "\n",
       "  var JS_MIME_TYPE = 'application/javascript';\n",
       "  var HTML_MIME_TYPE = 'text/html';\n",
       "  var EXEC_MIME_TYPE = 'application/vnd.bokehjs_exec.v0+json';\n",
       "  var CLASS_NAME = 'output_bokeh rendered_html';\n",
       "\n",
       "  /**\n",
       "   * Render data to the DOM node\n",
       "   */\n",
       "  function render(props, node) {\n",
       "    var script = document.createElement(\"script\");\n",
       "    node.appendChild(script);\n",
       "  }\n",
       "\n",
       "  /**\n",
       "   * Handle when an output is cleared or removed\n",
       "   */\n",
       "  function handleClearOutput(event, handle) {\n",
       "    var cell = handle.cell;\n",
       "\n",
       "    var id = cell.output_area._bokeh_element_id;\n",
       "    var server_id = cell.output_area._bokeh_server_id;\n",
       "    // Clean up Bokeh references\n",
       "    if (id != null && id in Bokeh.index) {\n",
       "      Bokeh.index[id].model.document.clear();\n",
       "      delete Bokeh.index[id];\n",
       "    }\n",
       "\n",
       "    if (server_id !== undefined) {\n",
       "      // Clean up Bokeh references\n",
       "      var cmd = \"from bokeh.io.state import curstate; print(curstate().uuid_to_server['\" + server_id + \"'].get_sessions()[0].document.roots[0]._id)\";\n",
       "      cell.notebook.kernel.execute(cmd, {\n",
       "        iopub: {\n",
       "          output: function(msg) {\n",
       "            var id = msg.content.text.trim();\n",
       "            if (id in Bokeh.index) {\n",
       "              Bokeh.index[id].model.document.clear();\n",
       "              delete Bokeh.index[id];\n",
       "            }\n",
       "          }\n",
       "        }\n",
       "      });\n",
       "      // Destroy server and session\n",
       "      var cmd = \"import bokeh.io.notebook as ion; ion.destroy_server('\" + server_id + \"')\";\n",
       "      cell.notebook.kernel.execute(cmd);\n",
       "    }\n",
       "  }\n",
       "\n",
       "  /**\n",
       "   * Handle when a new output is added\n",
       "   */\n",
       "  function handleAddOutput(event, handle) {\n",
       "    var output_area = handle.output_area;\n",
       "    var output = handle.output;\n",
       "\n",
       "    // limit handleAddOutput to display_data with EXEC_MIME_TYPE content only\n",
       "    if ((output.output_type != \"display_data\") || (!output.data.hasOwnProperty(EXEC_MIME_TYPE))) {\n",
       "      return\n",
       "    }\n",
       "\n",
       "    var toinsert = output_area.element.find(\".\" + CLASS_NAME.split(' ')[0]);\n",
       "\n",
       "    if (output.metadata[EXEC_MIME_TYPE][\"id\"] !== undefined) {\n",
       "      toinsert[toinsert.length - 1].firstChild.textContent = output.data[JS_MIME_TYPE];\n",
       "      // store reference to embed id on output_area\n",
       "      output_area._bokeh_element_id = output.metadata[EXEC_MIME_TYPE][\"id\"];\n",
       "    }\n",
       "    if (output.metadata[EXEC_MIME_TYPE][\"server_id\"] !== undefined) {\n",
       "      var bk_div = document.createElement(\"div\");\n",
       "      bk_div.innerHTML = output.data[HTML_MIME_TYPE];\n",
       "      var script_attrs = bk_div.children[0].attributes;\n",
       "      for (var i = 0; i < script_attrs.length; i++) {\n",
       "        toinsert[toinsert.length - 1].firstChild.setAttribute(script_attrs[i].name, script_attrs[i].value);\n",
       "      }\n",
       "      // store reference to server id on output_area\n",
       "      output_area._bokeh_server_id = output.metadata[EXEC_MIME_TYPE][\"server_id\"];\n",
       "    }\n",
       "  }\n",
       "\n",
       "  function register_renderer(events, OutputArea) {\n",
       "\n",
       "    function append_mime(data, metadata, element) {\n",
       "      // create a DOM node to render to\n",
       "      var toinsert = this.create_output_subarea(\n",
       "        metadata,\n",
       "        CLASS_NAME,\n",
       "        EXEC_MIME_TYPE\n",
       "      );\n",
       "      this.keyboard_manager.register_events(toinsert);\n",
       "      // Render to node\n",
       "      var props = {data: data, metadata: metadata[EXEC_MIME_TYPE]};\n",
       "      render(props, toinsert[toinsert.length - 1]);\n",
       "      element.append(toinsert);\n",
       "      return toinsert\n",
       "    }\n",
       "\n",
       "    /* Handle when an output is cleared or removed */\n",
       "    events.on('clear_output.CodeCell', handleClearOutput);\n",
       "    events.on('delete.Cell', handleClearOutput);\n",
       "\n",
       "    /* Handle when a new output is added */\n",
       "    events.on('output_added.OutputArea', handleAddOutput);\n",
       "\n",
       "    /**\n",
       "     * Register the mime type and append_mime function with output_area\n",
       "     */\n",
       "    OutputArea.prototype.register_mime_type(EXEC_MIME_TYPE, append_mime, {\n",
       "      /* Is output safe? */\n",
       "      safe: true,\n",
       "      /* Index of renderer in `output_area.display_order` */\n",
       "      index: 0\n",
       "    });\n",
       "  }\n",
       "\n",
       "  // register the mime type if in Jupyter Notebook environment and previously unregistered\n",
       "  if (root.Jupyter !== undefined) {\n",
       "    var events = require('base/js/events');\n",
       "    var OutputArea = require('notebook/js/outputarea').OutputArea;\n",
       "\n",
       "    if (OutputArea.prototype.mime_types().indexOf(EXEC_MIME_TYPE) == -1) {\n",
       "      register_renderer(events, OutputArea);\n",
       "    }\n",
       "  }\n",
       "\n",
       "  \n",
       "  if (typeof (root._bokeh_timeout) === \"undefined\" || force === true) {\n",
       "    root._bokeh_timeout = Date.now() + 5000;\n",
       "    root._bokeh_failed_load = false;\n",
       "  }\n",
       "\n",
       "  var NB_LOAD_WARNING = {'data': {'text/html':\n",
       "     \"<div style='background-color: #fdd'>\\n\"+\n",
       "     \"<p>\\n\"+\n",
       "     \"BokehJS does not appear to have successfully loaded. If loading BokehJS from CDN, this \\n\"+\n",
       "     \"may be due to a slow or bad network connection. Possible fixes:\\n\"+\n",
       "     \"</p>\\n\"+\n",
       "     \"<ul>\\n\"+\n",
       "     \"<li>re-rerun `output_notebook()` to attempt to load from CDN again, or</li>\\n\"+\n",
       "     \"<li>use INLINE resources instead, as so:</li>\\n\"+\n",
       "     \"</ul>\\n\"+\n",
       "     \"<code>\\n\"+\n",
       "     \"from bokeh.resources import INLINE\\n\"+\n",
       "     \"output_notebook(resources=INLINE)\\n\"+\n",
       "     \"</code>\\n\"+\n",
       "     \"</div>\"}};\n",
       "\n",
       "  function display_loaded() {\n",
       "    var el = document.getElementById(\"1634\");\n",
       "    if (el != null) {\n",
       "      el.textContent = \"BokehJS is loading...\";\n",
       "    }\n",
       "    if (root.Bokeh !== undefined) {\n",
       "      if (el != null) {\n",
       "        el.textContent = \"BokehJS \" + root.Bokeh.version + \" successfully loaded.\";\n",
       "      }\n",
       "    } else if (Date.now() < root._bokeh_timeout) {\n",
       "      setTimeout(display_loaded, 100)\n",
       "    }\n",
       "  }\n",
       "\n",
       "\n",
       "  function run_callbacks() {\n",
       "    try {\n",
       "      root._bokeh_onload_callbacks.forEach(function(callback) { callback() });\n",
       "    }\n",
       "    finally {\n",
       "      delete root._bokeh_onload_callbacks\n",
       "    }\n",
       "    console.info(\"Bokeh: all callbacks have finished\");\n",
       "  }\n",
       "\n",
       "  function load_libs(js_urls, callback) {\n",
       "    root._bokeh_onload_callbacks.push(callback);\n",
       "    if (root._bokeh_is_loading > 0) {\n",
       "      console.log(\"Bokeh: BokehJS is being loaded, scheduling callback at\", now());\n",
       "      return null;\n",
       "    }\n",
       "    if (js_urls == null || js_urls.length === 0) {\n",
       "      run_callbacks();\n",
       "      return null;\n",
       "    }\n",
       "    console.log(\"Bokeh: BokehJS not loaded, scheduling load and callback at\", now());\n",
       "    root._bokeh_is_loading = js_urls.length;\n",
       "    for (var i = 0; i < js_urls.length; i++) {\n",
       "      var url = js_urls[i];\n",
       "      var s = document.createElement('script');\n",
       "      s.src = url;\n",
       "      s.async = false;\n",
       "      s.onreadystatechange = s.onload = function() {\n",
       "        root._bokeh_is_loading--;\n",
       "        if (root._bokeh_is_loading === 0) {\n",
       "          console.log(\"Bokeh: all BokehJS libraries loaded\");\n",
       "          run_callbacks()\n",
       "        }\n",
       "      };\n",
       "      s.onerror = function() {\n",
       "        console.warn(\"failed to load library \" + url);\n",
       "      };\n",
       "      console.log(\"Bokeh: injecting script tag for BokehJS library: \", url);\n",
       "      document.getElementsByTagName(\"head\")[0].appendChild(s);\n",
       "    }\n",
       "  };var element = document.getElementById(\"1634\");\n",
       "  if (element == null) {\n",
       "    console.log(\"Bokeh: ERROR: autoload.js configured with elementid '1634' but no matching script tag was found. \")\n",
       "    return false;\n",
       "  }\n",
       "\n",
       "  var js_urls = [\"https://cdn.pydata.org/bokeh/release/bokeh-1.0.4.min.js\", \"https://cdn.pydata.org/bokeh/release/bokeh-widgets-1.0.4.min.js\", \"https://cdn.pydata.org/bokeh/release/bokeh-tables-1.0.4.min.js\", \"https://cdn.pydata.org/bokeh/release/bokeh-gl-1.0.4.min.js\"];\n",
       "\n",
       "  var inline_js = [\n",
       "    function(Bokeh) {\n",
       "      Bokeh.set_log_level(\"info\");\n",
       "    },\n",
       "    \n",
       "    function(Bokeh) {\n",
       "      \n",
       "    },\n",
       "    function(Bokeh) {\n",
       "      console.log(\"Bokeh: injecting CSS: https://cdn.pydata.org/bokeh/release/bokeh-1.0.4.min.css\");\n",
       "      Bokeh.embed.inject_css(\"https://cdn.pydata.org/bokeh/release/bokeh-1.0.4.min.css\");\n",
       "      console.log(\"Bokeh: injecting CSS: https://cdn.pydata.org/bokeh/release/bokeh-widgets-1.0.4.min.css\");\n",
       "      Bokeh.embed.inject_css(\"https://cdn.pydata.org/bokeh/release/bokeh-widgets-1.0.4.min.css\");\n",
       "      console.log(\"Bokeh: injecting CSS: https://cdn.pydata.org/bokeh/release/bokeh-tables-1.0.4.min.css\");\n",
       "      Bokeh.embed.inject_css(\"https://cdn.pydata.org/bokeh/release/bokeh-tables-1.0.4.min.css\");\n",
       "    }\n",
       "  ];\n",
       "\n",
       "  function run_inline_js() {\n",
       "    \n",
       "    if ((root.Bokeh !== undefined) || (force === true)) {\n",
       "      for (var i = 0; i < inline_js.length; i++) {\n",
       "        inline_js[i].call(root, root.Bokeh);\n",
       "      }if (force === true) {\n",
       "        display_loaded();\n",
       "      }} else if (Date.now() < root._bokeh_timeout) {\n",
       "      setTimeout(run_inline_js, 100);\n",
       "    } else if (!root._bokeh_failed_load) {\n",
       "      console.log(\"Bokeh: BokehJS failed to load within specified timeout.\");\n",
       "      root._bokeh_failed_load = true;\n",
       "    } else if (force !== true) {\n",
       "      var cell = $(document.getElementById(\"1634\")).parents('.cell').data().cell;\n",
       "      cell.output_area.append_execute_result(NB_LOAD_WARNING)\n",
       "    }\n",
       "\n",
       "  }\n",
       "\n",
       "  if (root._bokeh_is_loading === 0) {\n",
       "    console.log(\"Bokeh: BokehJS loaded, going straight to plotting\");\n",
       "    run_inline_js();\n",
       "  } else {\n",
       "    load_libs(js_urls, function() {\n",
       "      console.log(\"Bokeh: BokehJS plotting callback run at\", now());\n",
       "      run_inline_js();\n",
       "    });\n",
       "  }\n",
       "}(window));"
      ],
      "application/vnd.bokehjs_load.v0+json": "\n(function(root) {\n  function now() {\n    return new Date();\n  }\n\n  var force = true;\n\n  if (typeof (root._bokeh_onload_callbacks) === \"undefined\" || force === true) {\n    root._bokeh_onload_callbacks = [];\n    root._bokeh_is_loading = undefined;\n  }\n\n  \n\n  \n  if (typeof (root._bokeh_timeout) === \"undefined\" || force === true) {\n    root._bokeh_timeout = Date.now() + 5000;\n    root._bokeh_failed_load = false;\n  }\n\n  var NB_LOAD_WARNING = {'data': {'text/html':\n     \"<div style='background-color: #fdd'>\\n\"+\n     \"<p>\\n\"+\n     \"BokehJS does not appear to have successfully loaded. If loading BokehJS from CDN, this \\n\"+\n     \"may be due to a slow or bad network connection. Possible fixes:\\n\"+\n     \"</p>\\n\"+\n     \"<ul>\\n\"+\n     \"<li>re-rerun `output_notebook()` to attempt to load from CDN again, or</li>\\n\"+\n     \"<li>use INLINE resources instead, as so:</li>\\n\"+\n     \"</ul>\\n\"+\n     \"<code>\\n\"+\n     \"from bokeh.resources import INLINE\\n\"+\n     \"output_notebook(resources=INLINE)\\n\"+\n     \"</code>\\n\"+\n     \"</div>\"}};\n\n  function display_loaded() {\n    var el = document.getElementById(\"1634\");\n    if (el != null) {\n      el.textContent = \"BokehJS is loading...\";\n    }\n    if (root.Bokeh !== undefined) {\n      if (el != null) {\n        el.textContent = \"BokehJS \" + root.Bokeh.version + \" successfully loaded.\";\n      }\n    } else if (Date.now() < root._bokeh_timeout) {\n      setTimeout(display_loaded, 100)\n    }\n  }\n\n\n  function run_callbacks() {\n    try {\n      root._bokeh_onload_callbacks.forEach(function(callback) { callback() });\n    }\n    finally {\n      delete root._bokeh_onload_callbacks\n    }\n    console.info(\"Bokeh: all callbacks have finished\");\n  }\n\n  function load_libs(js_urls, callback) {\n    root._bokeh_onload_callbacks.push(callback);\n    if (root._bokeh_is_loading > 0) {\n      console.log(\"Bokeh: BokehJS is being loaded, scheduling callback at\", now());\n      return null;\n    }\n    if (js_urls == null || js_urls.length === 0) {\n      run_callbacks();\n      return null;\n    }\n    console.log(\"Bokeh: BokehJS not loaded, scheduling load and callback at\", now());\n    root._bokeh_is_loading = js_urls.length;\n    for (var i = 0; i < js_urls.length; i++) {\n      var url = js_urls[i];\n      var s = document.createElement('script');\n      s.src = url;\n      s.async = false;\n      s.onreadystatechange = s.onload = function() {\n        root._bokeh_is_loading--;\n        if (root._bokeh_is_loading === 0) {\n          console.log(\"Bokeh: all BokehJS libraries loaded\");\n          run_callbacks()\n        }\n      };\n      s.onerror = function() {\n        console.warn(\"failed to load library \" + url);\n      };\n      console.log(\"Bokeh: injecting script tag for BokehJS library: \", url);\n      document.getElementsByTagName(\"head\")[0].appendChild(s);\n    }\n  };var element = document.getElementById(\"1634\");\n  if (element == null) {\n    console.log(\"Bokeh: ERROR: autoload.js configured with elementid '1634' but no matching script tag was found. \")\n    return false;\n  }\n\n  var js_urls = [\"https://cdn.pydata.org/bokeh/release/bokeh-1.0.4.min.js\", \"https://cdn.pydata.org/bokeh/release/bokeh-widgets-1.0.4.min.js\", \"https://cdn.pydata.org/bokeh/release/bokeh-tables-1.0.4.min.js\", \"https://cdn.pydata.org/bokeh/release/bokeh-gl-1.0.4.min.js\"];\n\n  var inline_js = [\n    function(Bokeh) {\n      Bokeh.set_log_level(\"info\");\n    },\n    \n    function(Bokeh) {\n      \n    },\n    function(Bokeh) {\n      console.log(\"Bokeh: injecting CSS: https://cdn.pydata.org/bokeh/release/bokeh-1.0.4.min.css\");\n      Bokeh.embed.inject_css(\"https://cdn.pydata.org/bokeh/release/bokeh-1.0.4.min.css\");\n      console.log(\"Bokeh: injecting CSS: https://cdn.pydata.org/bokeh/release/bokeh-widgets-1.0.4.min.css\");\n      Bokeh.embed.inject_css(\"https://cdn.pydata.org/bokeh/release/bokeh-widgets-1.0.4.min.css\");\n      console.log(\"Bokeh: injecting CSS: https://cdn.pydata.org/bokeh/release/bokeh-tables-1.0.4.min.css\");\n      Bokeh.embed.inject_css(\"https://cdn.pydata.org/bokeh/release/bokeh-tables-1.0.4.min.css\");\n    }\n  ];\n\n  function run_inline_js() {\n    \n    if ((root.Bokeh !== undefined) || (force === true)) {\n      for (var i = 0; i < inline_js.length; i++) {\n        inline_js[i].call(root, root.Bokeh);\n      }if (force === true) {\n        display_loaded();\n      }} else if (Date.now() < root._bokeh_timeout) {\n      setTimeout(run_inline_js, 100);\n    } else if (!root._bokeh_failed_load) {\n      console.log(\"Bokeh: BokehJS failed to load within specified timeout.\");\n      root._bokeh_failed_load = true;\n    } else if (force !== true) {\n      var cell = $(document.getElementById(\"1634\")).parents('.cell').data().cell;\n      cell.output_area.append_execute_result(NB_LOAD_WARNING)\n    }\n\n  }\n\n  if (root._bokeh_is_loading === 0) {\n    console.log(\"Bokeh: BokehJS loaded, going straight to plotting\");\n    run_inline_js();\n  } else {\n    load_libs(js_urls, function() {\n      console.log(\"Bokeh: BokehJS plotting callback run at\", now());\n      run_inline_js();\n    });\n  }\n}(window));"
     },
     "metadata": {},
     "output_type": "display_data"
    },
    {
     "data": {
      "text/html": [
       "\n",
       "\n",
       "\n",
       "\n",
       "\n",
       "\n",
       "  <div class=\"bk-root\" id=\"2687d11e-452e-465f-9b33-4da1cf769602\" data-root-id=\"1636\"></div>\n"
      ]
     },
     "metadata": {},
     "output_type": "display_data"
    },
    {
     "data": {
      "application/javascript": [
       "(function(root) {\n",
       "  function embed_document(root) {\n",
       "    \n",
       "  var docs_json = {\"10a76b73-9406-42fc-9794-c8333ac67ed4\":{\"roots\":{\"references\":[{\"attributes\":{\"below\":[{\"id\":\"1646\",\"type\":\"LinearAxis\"}],\"left\":[{\"id\":\"1651\",\"type\":\"LinearAxis\"}],\"renderers\":[{\"id\":\"1646\",\"type\":\"LinearAxis\"},{\"id\":\"1650\",\"type\":\"Grid\"},{\"id\":\"1651\",\"type\":\"LinearAxis\"},{\"id\":\"1655\",\"type\":\"Grid\"},{\"id\":\"1669\",\"type\":\"GlyphRenderer\"},{\"id\":\"1671\",\"type\":\"LabelSet\"}],\"title\":{\"id\":\"1635\",\"type\":\"Title\"},\"toolbar\":{\"id\":\"1660\",\"type\":\"Toolbar\"},\"toolbar_location\":\"above\",\"x_range\":{\"id\":\"1638\",\"type\":\"DataRange1d\"},\"x_scale\":{\"id\":\"1642\",\"type\":\"LinearScale\"},\"y_range\":{\"id\":\"1640\",\"type\":\"DataRange1d\"},\"y_scale\":{\"id\":\"1644\",\"type\":\"LinearScale\"}},\"id\":\"1636\",\"subtype\":\"Figure\",\"type\":\"Plot\"},{\"attributes\":{\"formatter\":{\"id\":\"1719\",\"type\":\"BasicTickFormatter\"},\"plot\":{\"id\":\"1636\",\"subtype\":\"Figure\",\"type\":\"Plot\"},\"ticker\":{\"id\":\"1652\",\"type\":\"BasicTicker\"}},\"id\":\"1651\",\"type\":\"LinearAxis\"},{\"attributes\":{},\"id\":\"1658\",\"type\":\"ResetTool\"},{\"attributes\":{},\"id\":\"1642\",\"type\":\"LinearScale\"},{\"attributes\":{},\"id\":\"1659\",\"type\":\"SaveTool\"},{\"attributes\":{\"data_source\":{\"id\":\"1665\",\"type\":\"ColumnDataSource\"},\"glyph\":{\"id\":\"1667\",\"type\":\"Scatter\"},\"hover_glyph\":null,\"muted_glyph\":null,\"nonselection_glyph\":{\"id\":\"1668\",\"type\":\"Scatter\"},\"selection_glyph\":null,\"view\":{\"id\":\"1670\",\"type\":\"CDSView\"}},\"id\":\"1669\",\"type\":\"GlyphRenderer\"},{\"attributes\":{\"active_drag\":\"auto\",\"active_inspect\":\"auto\",\"active_multi\":null,\"active_scroll\":\"auto\",\"active_tap\":\"auto\",\"tools\":[{\"id\":\"1656\",\"type\":\"PanTool\"},{\"id\":\"1657\",\"type\":\"WheelZoomTool\"},{\"id\":\"1658\",\"type\":\"ResetTool\"},{\"id\":\"1659\",\"type\":\"SaveTool\"}]},\"id\":\"1660\",\"type\":\"Toolbar\"},{\"attributes\":{},\"id\":\"1717\",\"type\":\"BasicTickFormatter\"},{\"attributes\":{\"fill_alpha\":{\"value\":0.1},\"fill_color\":{\"value\":\"#1f77b4\"},\"line_alpha\":{\"value\":0.1},\"line_color\":{\"value\":\"#1f77b4\"},\"size\":{\"units\":\"screen\",\"value\":8},\"x\":{\"field\":\"x1\"},\"y\":{\"field\":\"x2\"}},\"id\":\"1668\",\"type\":\"Scatter\"},{\"attributes\":{},\"id\":\"1652\",\"type\":\"BasicTicker\"},{\"attributes\":{\"source\":{\"id\":\"1665\",\"type\":\"ColumnDataSource\"}},\"id\":\"1670\",\"type\":\"CDSView\"},{\"attributes\":{},\"id\":\"1657\",\"type\":\"WheelZoomTool\"},{\"attributes\":{\"plot\":{\"id\":\"1636\",\"subtype\":\"Figure\",\"type\":\"Plot\"},\"ticker\":{\"id\":\"1647\",\"type\":\"BasicTicker\"}},\"id\":\"1650\",\"type\":\"Grid\"},{\"attributes\":{\"callback\":null},\"id\":\"1638\",\"type\":\"DataRange1d\"},{\"attributes\":{\"dimension\":1,\"plot\":{\"id\":\"1636\",\"subtype\":\"Figure\",\"type\":\"Plot\"},\"ticker\":{\"id\":\"1652\",\"type\":\"BasicTicker\"}},\"id\":\"1655\",\"type\":\"Grid\"},{\"attributes\":{\"formatter\":{\"id\":\"1717\",\"type\":\"BasicTickFormatter\"},\"plot\":{\"id\":\"1636\",\"subtype\":\"Figure\",\"type\":\"Plot\"},\"ticker\":{\"id\":\"1647\",\"type\":\"BasicTicker\"}},\"id\":\"1646\",\"type\":\"LinearAxis\"},{\"attributes\":{\"plot\":{\"id\":\"1636\",\"subtype\":\"Figure\",\"type\":\"Plot\"},\"source\":{\"id\":\"1665\",\"type\":\"ColumnDataSource\"},\"text\":{\"field\":\"names\"},\"text_align\":\"center\",\"text_color\":{\"value\":\"#555555\"},\"text_font_size\":{\"value\":\"8pt\"},\"x\":{\"field\":\"x1\"},\"y\":{\"field\":\"x2\"},\"y_offset\":{\"value\":6}},\"id\":\"1671\",\"type\":\"LabelSet\"},{\"attributes\":{\"callback\":null,\"data\":{\"names\":[\"\\u043a\\u0430\\u0440\\u0442\\u0430\",\"\\u0434\\u0435\\u043d\\u044c\\u0433\\u0438\",\"\\u043a\\u0440\\u0435\\u0434\\u0438\\u0442\",\"\\u043e\\u0442\\u0434\\u0435\\u043b\\u0435\\u043d\\u0438\\u0435\",\"\\u043a\\u043b\\u0438\\u0435\\u043d\\u0442\",\"\\u0441\\u043e\\u0442\\u0440\\u0443\\u0434\\u043d\\u0438\\u043a\",\"\\u0441\\u043a\\u0430\\u0437\\u0430\\u0442\\u044c\",\"\\u0441\\u0443\\u043c\\u043c\\u0430\",\"\\u043f\\u043e\\u043b\\u0443\\u0447\\u0430\\u0442\\u044c\",\"\\u0437\\u0430\\u044f\\u0432\\u043b\\u0435\\u043d\\u0438\\u0435\",\"\\u0432\\u043e\\u043f\\u0440\\u043e\\u0441\",\"\\u0432\\u0440\\u0435\\u043c\\u044f\",\"\\u0442\\u0430\\u043a\\u043e\\u0439\",\"\\u043a\\u0440\\u0435\\u0434\\u0438\\u0442\\u043d\\u044b\\u0439\",\"\\u043f\\u0440\\u0438\\u0445\\u043e\\u0434\\u0438\\u0442\\u044c\",\"\\u043e\\u0442\\u0432\\u0435\\u0442\",\"\\u0432\\u043a\\u043b\\u0430\\u0434\",\"\\u0434\\u0430\\u043d\\u043d\\u044b\\u0439\",\"\\u0442\\u0435\\u043b\\u0435\\u0444\\u043e\\u043d\",\"\\u043f\\u043b\\u0430\\u0442\\u0435\\u0436\",\"\\u0434\\u043e\\u0433\\u043e\\u0432\\u043e\\u0440\",\"\\u043d\\u043e\\u043c\\u0435\\u0440\",\"\\u0437\\u0432\\u043e\\u043d\\u0438\\u0442\\u044c\",\"\\u0431\\u0430\\u043d\\u043a\\u043e\\u043c\\u0430\\u0442\",\"\\u0441\\u0431\\u0435\\u0440\\u0431\\u0430\\u043d\\u043a\",\"\\u043e\\u0447\\u0435\\u043d\\u044c\",\"\\u043f\\u043e\\u0437\\u0432\\u043e\\u043d\\u0438\\u0442\\u044c\",\"\\u043c\\u0435\\u0441\\u044f\\u0446\",\"\\u043d\\u0430\\u043f\\u0438\\u0441\\u0430\\u0442\\u044c\",\"\\u043f\\u0440\\u043e\\u0431\\u043b\\u0435\\u043c\\u0430\",\"\\u043e\\u0431\\u0440\\u0430\\u0449\\u0430\\u0442\\u044c\\u0441\\u044f\",\"\\u0434\\u0440\\u0443\\u0433\\u043e\\u0439\",\"\\u0440\\u0435\\u0448\\u0430\\u0442\\u044c\",\"\\u0440\\u0430\\u0431\\u043e\\u0442\\u0430\\u0442\\u044c\",\"\\u043a\\u0430\\u043a\\u043e\\u0439\",\"\\u0441\\u0440\\u0435\\u0434\\u0441\\u0442\\u0432\\u043e\",\"\\u0440\\u0443\\u0431\\u043b\\u044c\",\"\\u0440\\u0430\\u0431\\u043e\\u0442\\u0430\",\"\\u0434\\u043e\\u043a\\u0443\\u043c\\u0435\\u043d\\u0442\",\"\\u0441\\u0438\\u0442\\u0443\\u0430\\u0446\\u0438\\u044f\",\"\\u0437\\u0432\\u043e\\u043d\\u043e\\u043a\",\"\\u043e\\u0442\\u0432\\u0435\\u0447\\u0430\\u0442\\u044c\",\"\\u0433\\u043e\\u0432\\u043e\\u0440\\u0438\\u0442\\u044c\",\"\\u0447\\u0435\\u043b\\u043e\\u0432\\u0435\\u043a\",\"\\u0445\\u043e\\u0442\\u0435\\u0442\\u044c\",\"\\u043e\\u043f\\u0435\\u0440\\u0430\\u0446\\u0438\\u044f\",\"\\u043f\\u043e\\u0447\\u0435\\u043c\\u0443\",\"\\u0438\\u043d\\u0444\\u043e\\u0440\\u043c\\u0430\\u0446\\u0438\\u044f\",\"\\u0434\\u0430\\u0432\\u0430\\u0442\\u044c\",\"\\u0441\\u043e\\u043e\\u0431\\u0449\\u0430\\u0442\\u044c\",\"\\u0441\\u0434\\u0435\\u043b\\u0430\\u0442\\u044c\",\"\\u043e\\u0444\\u043e\\u0440\\u043c\\u043b\\u044f\\u0442\\u044c\",\"\\u0443\\u0441\\u043b\\u0443\\u0433\\u0430\",\"\\u043f\\u0440\\u043e\\u0441\\u0442\\u043e\",\"\\u0437\\u043d\\u0430\\u0442\\u044c\",\"\\u0434\\u043e\\u043b\\u0436\\u043d\\u044b\\u0439\",\"\\u0437\\u0430\\u044f\\u0432\\u043a\\u0430\",\"\\u0431\\u0430\\u043d\\u043a\\u0430\",\"\\u043e\\u0431\\u0441\\u043b\\u0443\\u0436\\u0438\\u0432\\u0430\\u043d\\u0438\\u0435\",\"\\u043e\\u0447\\u0435\\u0440\\u0435\\u0434\\u044c\",\"\\u043c\\u0438\\u043d\\u0443\\u0442\\u0430\",\"\\u0441\\u0435\\u0433\\u043e\\u0434\\u043d\\u044f\",\"\\u043f\\u0435\\u0440\\u0432\\u044b\\u0439\",\"\\u0434\\u0435\\u0432\\u0443\\u0448\\u043a\\u0430\",\"\\u0436\\u0434\\u0430\\u0442\\u044c\",\"\\u043f\\u0440\\u0435\\u0442\\u0435\\u043d\\u0437\\u0438\\u044f\",\"\\u043f\\u0440\\u043e\\u0441\\u0438\\u0442\\u044c\",\"\\u043d\\u043e\\u0432\\u044b\\u0439\",\"\\u0438\\u043d\\u0442\\u0435\\u0440\\u043d\\u0435\\u0442\",\"\\u043f\\u0440\\u043e\\u0446\\u0435\\u043d\\u0442\",\"\\u043f\\u0440\\u0438\\u043d\\u0438\\u043c\\u0430\\u0442\\u044c\",\"\\u0441\\u043d\\u0438\\u043c\\u0430\\u0442\\u044c\",\"\\u0432\\u044b\\u0434\\u0430\\u0432\\u0430\\u0442\\u044c\",\"\\u043d\\u0435\\u0434\\u0435\\u043b\\u044f\",\"\\u043e\\u0442\\u043a\\u0440\\u044b\\u0432\\u0430\\u0442\\u044c\",\"\\u043d\\u0438\\u043a\\u0430\\u043a\\u043e\\u0439\",\"\\u043e\\u043f\\u0435\\u0440\\u0430\\u0442\\u043e\\u0440\",\"\\u044f\\u0432\\u043b\\u044f\\u0442\\u044c\\u0441\\u044f\",\"\\u043f\\u043e\\u043d\\u0438\\u043c\\u0430\\u0442\\u044c\",\"\\u0441\\u0442\\u0430\\u043d\\u043e\\u0432\\u0438\\u0442\\u044c\\u0441\\u044f\",\"\\u0437\\u0430\\u043a\\u0440\\u044b\\u0432\\u0430\\u0442\\u044c\",\"\\u043f\\u0440\\u043e\\u0445\\u043e\\u0434\\u0438\\u0442\\u044c\",\"\\u043f\\u0440\\u0435\\u0434\\u043b\\u0430\\u0433\\u0430\\u0442\\u044c\",\"\\u043e\\u043f\\u043b\\u0430\\u0447\\u0438\\u0432\\u0430\\u0442\\u044c\",\"\\u043d\\u0435\\u0441\\u043a\\u043e\\u043b\\u044c\\u043a\\u043e\",\"\\u043f\\u0435\\u0440\\u0435\\u0432\\u043e\\u0434\",\"\\u043f\\u0438\\u0441\\u0430\\u0442\\u044c\",\"\\u043e\\u043a\\u0430\\u0437\\u044b\\u0432\\u0430\\u0442\\u044c\\u0441\\u044f\",\"\\u043d\\u0443\\u0436\\u043d\\u043e\",\"\\u043a\\u043e\\u043c\\u0438\\u0441\\u0441\\u0438\\u044f\",\"\\u0441\\u0430\\u043c\\u044b\\u0439\",\"\\u0438\\u043c\\u0435\\u0442\\u044c\",\"\\u043e\\u0431\\u044a\\u044f\\u0441\\u043d\\u044f\\u0442\\u044c\",\"\\u043f\\u043e\\u043b\\u044c\\u0437\\u043e\\u0432\\u0430\\u0442\\u044c\\u0441\\u044f\",\"\\u0443\\u0441\\u043b\\u043e\\u0432\\u0438\\u0435\",\"\\u0441\\u043b\\u0435\\u0434\\u0443\\u044e\\u0449\\u0438\\u0439\",\"\\u0446\\u0435\\u043d\\u0442\\u0440\",\"\\u043c\\u043e\\u043c\\u0435\\u043d\\u0442\",\"\\u0437\\u0430\\u0434\\u043e\\u043b\\u0436\\u0435\\u043d\\u043d\\u043e\\u0441\\u0442\\u044c\",\"\\u0443\\u0437\\u043d\\u0430\\u0432\\u0430\\u0442\\u044c\",\"\\u0432\\u0437\\u044f\\u0442\\u044c\",\"\\u0441\\u043b\\u0443\\u0447\\u0430\\u0439\",\"\\u0442\\u0435\\u0447\\u0435\\u043d\\u0438\\u0435\",\"\\u0443\\u043a\\u0430\\u0437\\u044b\\u0432\\u0430\\u0442\\u044c\",\"\\u043f\\u0440\\u0438\\u0445\\u043e\\u0434\\u0438\\u0442\\u044c\\u0441\\u044f\",\"\\u0432\\u043e\\u043e\\u0431\\u0449\\u0435\",\"\\u0434\\u0435\\u043b\\u0430\\u0442\\u044c\",\"\\u0441\\u0440\\u0430\\u0437\\u0443\",\"\\u043d\\u0438\\u043a\\u0442\\u043e\",\"\\u0440\\u0435\\u0448\\u0435\\u043d\\u0438\\u0435\",\"\\u0441\\u043b\\u0443\\u0436\\u0431\\u0430\",\"\\u0432\\u043d\\u043e\\u0441\\u0438\\u0442\\u044c\",\"\\u0441\\u043f\\u0435\\u0446\\u0438\\u0430\\u043b\\u0438\\u0441\\u0442\",\"\\u043d\\u0430\\u0447\\u0438\\u043d\\u0430\\u0442\\u044c\",\"\\u0441\\u0438\\u0441\\u0442\\u0435\\u043c\\u0430\",\"\\u0441\\u043f\\u0440\\u0430\\u0448\\u0438\\u0432\\u0430\\u0442\\u044c\",\"\\u0434\\u0435\\u043d\\u0435\\u0436\\u043d\\u044b\\u0439\",\"\\u043e\\u0431\\u0440\\u0430\\u0449\\u0435\\u043d\\u0438\\u0435\",\"\\u043e\\u0442\\u0437\\u044b\\u0432\",\"\\u043e\\u0442\\u043f\\u0440\\u0430\\u0432\\u043b\\u044f\\u0442\\u044c\",\"\\u0430\\u0434\\u0440\\u0435\\u0441\",\"\\u0441\\u043c\\u043e\\u0447\\u044c\",\"\\u043c\\u043e\\u0441\\u043a\\u0432\\u0430\",\"\\u043e\\u043f\\u043b\\u0430\\u0442\\u0430\",\"\\u043c\\u0435\\u043d\\u0435\\u0434\\u0436\\u0435\\u0440\",\"\\u043d\\u0443\\u0436\\u043d\\u044b\\u0439\",\"\\u043a\\u0430\\u0436\\u0434\\u044b\\u0439\",\"\\u043f\\u0440\\u0435\\u0434\\u043e\\u0441\\u0442\\u0430\\u0432\\u043b\\u044f\\u0442\\u044c\",\"\\u043f\\u043e\\u0441\\u0442\\u0443\\u043f\\u0430\\u0442\\u044c\",\"\\u0434\\u0430\\u043d\\u043d\\u044b\\u0435\",\"\\u043a\\u0430\\u0441\\u0441\\u0430\",\"\\u043f\\u0440\\u043e\\u0438\\u0441\\u0445\\u043e\\u0434\\u0438\\u0442\\u044c\",\"\\u0438\\u0441\\u0442\\u043e\\u0440\\u0438\\u044f\",\"\\u043e\\u0431\\u0449\\u0438\\u0439\",\"\\u0434\\u0443\\u043c\\u0430\\u0442\\u044c\",\"\\u043e\\u0441\\u0442\\u0430\\u0432\\u0430\\u0442\\u044c\\u0441\\u044f\",\"\\u0432\\u0442\\u043e\\u0440\\u043e\\u0439\",\"\\u0441\\u043b\\u043e\\u0432\\u043e\",\"\\u0432\\u0435\\u0440\\u043d\\u0443\\u0442\\u044c\",\"\\u043f\\u043e\\u0433\\u0430\\u0448\\u0435\\u043d\\u0438\\u0435\",\"\\u0434\\u043e\\u0431\\u0440\\u044b\\u0439\",\"\\u043e\\u0442\\u043d\\u043e\\u0448\\u0435\\u043d\\u0438\\u0435\",\"\\u0440\\u0430\\u0437\\u0431\\u0438\\u0440\\u0430\\u0442\\u044c\\u0441\\u044f\",\"\\u0430\\u043b\\u044c\\u0444\\u0430\",\"\\u0431\\u0440\\u0430\\u0442\\u044c\",\"\\u043f\\u043e\\u0434\\u0434\\u0435\\u0440\\u0436\\u043a\\u0430\",\"\\u043f\\u0440\\u0438\\u0435\\u0437\\u0436\\u0430\\u0442\\u044c\",\"\\u043f\\u043e\\u0441\\u043b\\u0435\\u0434\\u043d\\u0438\\u0439\",\"\\u043f\\u043e\\u043f\\u0440\\u043e\\u0441\\u0438\\u0442\\u044c\",\"\\u043f\\u043e\\u043b\\u0443\\u0447\\u0435\\u043d\\u0438\\u0435\",\"\\u0441\\u043f\\u0430\\u0441\\u0438\\u0431\\u043e\",\"\\u043e\\u0441\\u0442\\u0430\\u0432\\u043b\\u044f\\u0442\\u044c\",\"\\u043d\\u0430\\u0445\\u043e\\u0434\\u0438\\u0442\\u044c\\u0441\\u044f\",\"\\u043f\\u0438\\u0441\\u044c\\u043c\\u043e\",\"\\u0443\\u0442\\u043e\\u0447\\u043d\\u044f\\u0442\\u044c\",\"\\u043b\\u0438\\u043c\\u0438\\u0442\",\"\\u043f\\u043b\\u0430\\u0442\\u0438\\u0442\\u044c\",\"\\u043b\\u0438\\u043d\\u0438\\u044f\",\"\\u0440\\u0430\\u0431\\u043e\\u0447\\u0438\\u0439\",\"\\u0441\\u0432\\u044f\\u0437\\u044c\",\"\\u043f\\u043e\\u043c\\u043e\\u0433\\u0430\\u0442\\u044c\",\"\\u0432\\u043e\\u0437\\u043c\\u043e\\u0436\\u043d\\u043e\\u0441\\u0442\\u044c\",\"\\u043e\\u0442\\u043a\\u0430\\u0437\\u044b\\u0432\\u0430\\u0442\\u044c\\u0441\\u044f\",\"\\u043f\\u0440\\u0438\\u0447\\u0438\\u043d\\u0430\",\"\\u043e\\u0448\\u0438\\u0431\\u043a\\u0430\",\"\\u0441\\u043e\\u0442\\u0440\\u0443\\u0434\\u043d\\u0438\\u0446\\u0430\",\"\\u043f\\u0440\\u043e\\u0441\\u044c\\u0431\\u0430\",\"\\u0431\\u0430\\u043d\\u043a\\u043e\\u0432\\u0441\\u043a\\u0438\\u0439\",\"\\u0441\\u043d\\u043e\\u0432\\u0430\",\"\\u043f\\u0430\\u0441\\u043f\\u043e\\u0440\\u0442\",\"\\u043f\\u043e\\u0434\\u0430\\u0432\\u0430\\u0442\\u044c\",\"\\u043a\\u043e\\u043d\\u0435\\u0446\",\"\\u043c\\u0435\\u0441\\u0442\\u043e\",\"\\u0438\\u043c\\u0435\\u043d\\u043d\\u043e\",\"\\u0445\\u043e\\u0440\\u043e\\u0448\\u0438\\u0439\",\"\\u0431\\u044b\\u0441\\u0442\\u0440\\u043e\",\"\\u0434\\u0435\\u0439\\u0441\\u0442\\u0432\\u0438\\u0435\",\"\\u0432\\u044b\\u043f\\u0438\\u0441\\u043a\\u0430\",\"\\u0445\\u043e\\u0442\\u0435\\u0442\\u044c\\u0441\\u044f\",\"\\u0441\\u043f\\u0440\\u0430\\u0432\\u043a\\u0430\",\"\\u0441\\u0442\\u0440\\u0430\\u0445\\u043e\\u0432\\u043a\\u0430\",\"\\u043f\\u0435\\u0440\\u0435\\u0437\\u0432\\u0430\\u043d\\u0438\\u0432\\u0430\\u0442\\u044c\",\"\\u043a\\u0430\\u0440\\u0442\\u043e\\u0447\\u043a\\u0430\",\"\\u043e\\u0444\\u043e\\u0440\\u043c\\u043b\\u0435\\u043d\\u0438\\u0435\",\"\\u0440\\u0430\\u0441\\u0441\\u043c\\u043e\\u0442\\u0440\\u0435\\u043d\\u0438\\u0435\",\"\\u0432\\u0438\\u0434\\u0435\\u0442\\u044c\",\"\\u043d\\u0430\\u0437\\u0430\\u0434\",\"\\u0441\\u043f\\u0438\\u0441\\u044b\\u0432\\u0430\\u0442\\u044c\",\"\\u043e\\u0442\\u043a\\u0430\\u0437\",\"\\u043f\\u043e\\u044d\\u0442\\u043e\\u043c\\u0443\",\"\\u0431\\u043e\\u043b\\u044c\\u0448\\u043e\\u0439\",\"\\u043d\\u0430\\u0445\\u043e\\u0434\\u0438\\u0442\\u044c\",\"\\u043f\\u043e\\u043b\\u043d\\u044b\\u0439\",\"\\u043f\\u043e\\u0433\\u0430\\u0441\\u0438\\u0442\\u044c\",\"\\u043f\\u044b\\u0442\\u0430\\u0442\\u044c\\u0441\\u044f\",\"\\u0443\\u0445\\u043e\\u0434\\u0438\\u0442\\u044c\",\"\\u0437\\u0430\\u0431\\u043b\\u043e\\u043a\\u0438\\u0440\\u043e\\u0432\\u0430\\u0442\\u044c\",\"\\u043e\\u043f\\u0435\\u0440\\u0430\\u0446\\u0438\\u043e\\u043d\\u0438\\u0441\\u0442\",\"\\u043b\\u044e\\u0431\\u043e\\u0439\",\"\\u0430\\u0434\\u043c\\u0438\\u043d\\u0438\\u0441\\u0442\\u0440\\u0430\\u0442\\u043e\\u0440\",\"\\u0433\\u043e\\u0440\\u044f\\u0447\\u0438\\u0439\",\"\\u0440\\u0435\\u0437\\u0443\\u043b\\u044c\\u0442\\u0430\\u0442\",\"\\u043f\\u043e\\u043b\\u0443\\u0447\\u0430\\u0442\\u044c\\u0441\\u044f\",\"\\u0441\\u043e\\u043e\\u0431\\u0449\\u0435\\u043d\\u0438\\u0435\",\"\\u043f\\u0440\\u043e\\u0432\\u0435\\u0440\\u044f\\u0442\\u044c\",\"\\u0432\\u043e\\u0437\\u043d\\u0438\\u043a\\u0430\\u0442\\u044c\",\"\\u0442\\u0435\\u0440\\u043c\\u0438\\u043d\\u0430\\u043b\",\"\\u043f\\u043e\\u0439\\u0442\\u0438\",\"\\u0447\\u0438\\u0441\\u043b\\u043e\",\"\\u0441\\u0442\\u0430\\u0432\\u043a\\u0430\",\"\\u043f\\u0440\\u043e\\u0432\\u043e\\u0434\\u0438\\u0442\\u044c\",\"\\u0437\\u0430\\u043a\\u0440\\u044b\\u0442\\u0438\\u0435\",\"\\u043c\\u043e\\u0431\\u0438\\u043b\\u044c\\u043d\\u044b\\u0439\",\"\\u043f\\u0440\\u043e\\u0441\\u0440\\u043e\\u0447\\u043a\\u0430\",\"\\u043e\\u0442\\u0434\\u0435\\u043b\",\"\\u0433\\u043e\\u0440\\u043e\\u0434\",\"\\u0441\\u043e\\u0441\\u0442\\u0430\\u0432\\u043b\\u044f\\u0442\\u044c\",\"\\u043f\\u043e\\u043a\\u0443\\u043f\\u043a\\u0430\",\"\\u0444\\u0438\\u043b\\u0438\\u0430\\u043b\",\"\\u0434\\u0435\\u043a\\u0430\\u0431\\u0440\\u044c\",\"\\u043e\\u043a\\u043e\\u043b\\u043e\",\"\\u0441\\u043f\\u0438\\u0441\\u0430\\u043d\\u0438\\u0435\",\"\\u0437\\u0430\\u043f\\u043e\\u043b\\u043d\\u044f\\u0442\\u044c\",\"\\u043e\\u0442\\u043a\\u0440\\u044b\\u0442\\u0438\\u0435\",\"\\u0441\\u0447\\u0438\\u0442\\u0430\\u0442\\u044c\",\"\\u043f\\u043e\\u0434\\u0445\\u043e\\u0434\\u0438\\u0442\\u044c\",\"\\u0434\\u0435\\u0431\\u0435\\u0442\\u043e\\u0432\\u044b\\u0439\",\"\\u0441\\u0442\\u043e\\u044f\\u0442\\u044c\",\"\\u0437\\u0430\\u0431\\u0438\\u0440\\u0430\\u0442\\u044c\",\"\\u043f\\u043e\\u0447\\u0442\\u0430\",\"\\u0441\\u0432\\u044f\\u0437\\u044b\\u0432\\u0430\\u0442\\u044c\\u0441\\u044f\",\"\\u0441\\u0442\\u043e\\u0440\\u043e\\u043d\\u0430\",\"\\u043f\\u0435\\u0440\\u0435\\u0432\\u043e\\u0434\\u0438\\u0442\\u044c\",\"\\u043d\\u0430\\u043b\\u0438\\u0447\\u043d\\u044b\\u0439\",\"\\u0440\\u0430\\u0437\\u043c\\u0435\\u0440\",\"\\u0441\\u043d\\u044f\\u0442\\u0438\\u0435\",\"\\u043f\\u043e\\u0434\\u043f\\u0438\\u0441\\u044b\\u0432\\u0430\\u0442\\u044c\",\"\\u043f\\u0440\\u0430\\u0432\\u043e\",\"\\u043e\\u043d\\u043b\\u0430\\u0439\\u043d\",\"\\u043e\\u0442\\u043a\\u0430\\u0437\\u044b\\u0432\\u0430\\u0442\\u044c\",\"\\u043d\\u0430\\u0434\\u0435\\u044f\\u0442\\u044c\\u0441\\u044f\",\"\\u043e\\u0434\\u043d\\u0430\\u043a\\u043e\",\"\\u043f\\u0440\\u043e\\u0433\\u0440\\u0430\\u043c\\u043c\\u0430\",\"\\u043e\\u0431\\u0435\\u0449\\u0430\\u0442\\u044c\",\"\\u0437\\u0434\\u0440\\u0430\\u0432\\u0441\\u0442\\u0432\\u043e\\u0432\\u0430\\u0442\\u044c\",\"\\u043a\\u043e\\u043f\\u0438\\u044f\",\"\\u0432\\u0435\\u0447\\u0435\\u0440\",\"\\u043f\\u0440\\u0435\\u0434\\u043b\\u043e\\u0436\\u0435\\u043d\\u0438\\u0435\",\"\\u0434\\u0430\\u043b\\u0435\\u043a\\u043e\",\"\\u0441\\u043a\\u043e\\u043b\\u044c\\u043a\\u043e\",\"\\u0436\\u0430\\u043b\\u043e\\u0431\\u0430\",\"\\u0440\\u0430\\u0441\\u0441\\u043c\\u0430\\u0442\\u0440\\u0438\\u0432\\u0430\\u0442\\u044c\",\"\\u043d\\u0430\\u0437\\u044b\\u0432\\u0430\\u0442\\u044c\",\"\\u043e\\u0447\\u0435\\u0440\\u0435\\u0434\\u043d\\u043e\\u0439\",\"\\u0434\\u043e\\u043b\\u0433\\u043e\",\"\\u0432\\u0438\\u0434\\u0438\\u043c\\u043e\",\"\\u0432\\u043e\\u0437\\u0432\\u0440\\u0430\\u0442\",\"\\u043c\\u0430\\u0433\\u0430\\u0437\\u0438\\u043d\",\"\\u043f\\u043e\\u0440\\u044f\\u0434\\u043e\\u043a\",\"\\u043d\\u0430\\u0447\\u0438\\u043d\\u0430\\u0442\\u044c\\u0441\\u044f\",\"\\u043f\\u043e\\u043b\\u0430\\u0433\\u0430\\u0442\\u044c\",\"\\u0442\\u0430\\u0440\\u0438\\u0444\",\"\\u0434\\u0430\\u043b\\u0435\\u0435\",\"\\u0434\\u043e\\u043f\\u043e\\u043b\\u043d\\u0438\\u0442\\u0435\\u043b\\u044c\\u043d\\u044b\\u0439\",\"\\u043e\\u0441\\u0442\\u0430\\u0442\\u043e\\u043a\",\"\\u0432\\u044b\\u0434\\u0430\\u0447\\u0430\",\"\\u0440\\u0430\\u0437\\u0433\\u043e\\u0432\\u043e\\u0440\",\"\\u044d\\u043b\\u0435\\u043a\\u0442\\u0440\\u043e\\u043d\\u043d\\u044b\\u0439\",\"\\u043e\\u0434\\u043e\\u0431\\u0440\\u044f\\u0442\\u044c\",\"\\u0442\\u044b\\u0441\\u044f\\u0447\\u0430\",\"\\u043f\\u043e\\u0434\\u043a\\u043b\\u044e\\u0447\\u0430\\u0442\\u044c\",\"\\u0440\\u0430\\u0441\\u0441\\u043a\\u0430\\u0437\\u044b\\u0432\\u0430\\u0442\\u044c\",\"\\u0440\\u043e\\u0441\\u0441\\u0438\\u044f\",\"\\u0432\\u043d\\u0438\\u043c\\u0430\\u043d\\u0438\\u0435\",\"\\u043b\\u0438\\u0447\\u043d\\u044b\\u0439\",\"\\u0433\\u043e\\u0442\\u043e\\u0432\\u044b\\u0439\",\"\\u0437\\u0430\\u043f\\u0440\\u043e\\u0441\",\"\\u044f\\u043d\\u0432\\u0430\\u0440\\u044c\",\"\\u043f\\u0440\\u0435\\u0434\\u0441\\u0442\\u0430\\u0432\\u0438\\u0442\\u0435\\u043b\\u044c\",\"\\u0442\\u0440\\u0435\\u0431\\u043e\\u0432\\u0430\\u0442\\u044c\",\"\\u0442\\u043e\\u0447\\u043d\\u043e\",\"\\u043f\\u0440\\u0438\\u0447\\u0435\\u043c\",\"\\u0441\\u0435\\u0440\\u0432\\u0438\\u0441\",\"\\u043e\\u0431\\u0440\\u0430\\u0437\",\"\\u043a\\u0430\\u0441\\u0441\\u0438\\u0440\",\"\\u0440\\u0430\\u0431\\u043e\\u0442\\u043d\\u0438\\u043a\",\"\\u0434\\u043e\\u0441\\u0440\\u043e\\u0447\\u043d\\u044b\\u0439\",\"\\u043e\\u0440\\u0433\\u0430\\u043d\\u0438\\u0437\\u0430\\u0446\\u0438\\u044f\",\"\\u0434\\u0435\\u043f\\u043e\\u0437\\u0438\\u0442\",\"\\u0437\\u0430\\u0439\\u0442\\u0438\",\"\\u043f\\u043e\\u0434\\u0442\\u0432\\u0435\\u0440\\u0436\\u0434\\u0430\\u0442\\u044c\",\"\\u0437\\u0430\\u043a\\u0430\\u0437\\u044b\\u0432\\u0430\\u0442\\u044c\",\"\\u043d\\u0435\\u043e\\u0431\\u0445\\u043e\\u0434\\u0438\\u043c\\u043e\",\"\\u0440\\u0430\\u0437\\u043d\\u044b\\u0439\",\"\\u043d\\u0435\\u043e\\u0431\\u0445\\u043e\\u0434\\u0438\\u043c\\u044b\\u0439\",\"\\u0430\\u043d\\u043a\\u0435\\u0442\\u0430\",\"\\u043f\\u043e\\u0436\\u0430\\u043b\\u0443\\u0439\\u0441\\u0442\\u0430\",\"\\u0430\\u043f\\u0440\\u0435\\u043b\\u044c\",\"\\u043e\\u0446\\u0435\\u043d\\u043a\\u0430\",\"\\u043f\\u0435\\u0440\\u0438\\u043e\\u0434\",\"\\u043a\\u043e\\u043c\\u043f\\u0430\\u043d\\u0438\\u044f\",\"\\u0432\\u044b\\u044f\\u0441\\u043d\\u044f\\u0442\\u044c\\u0441\\u044f\",\"\\u0437\\u0430\\u043f\\u043b\\u0430\\u0442\\u0438\\u0442\\u044c\",\"\\u0448\\u0442\\u0440\\u0430\\u0444\",\"\\u0441\\u0442\\u0440\\u0430\\u0445\\u043e\\u0432\\u0430\\u043d\\u0438\\u0435\",\"\\u0441\\u043d\\u0430\\u0447\\u0430\\u043b\\u0430\",\"\\u0432\\u044b\\u0445\\u043e\\u0434\\u0438\\u0442\\u044c\",\"\\u043f\\u043e\\u0432\\u043e\\u0434\",\"\\u0431\\u043b\\u0438\\u0437\\u043a\\u0438\\u0439\",\"\\u0437\\u0430\\u043d\\u0438\\u043c\\u0430\\u0442\\u044c\",\"\\u0434\\u043e\\u0437\\u0432\\u0430\\u043d\\u0438\\u0432\\u0430\\u0442\\u044c\\u0441\\u044f\",\"\\u043f\\u0435\\u0440\\u0435\\u0434\\u0430\\u0432\\u0430\\u0442\\u044c\",\"\\u0443\\u0432\\u0430\\u0436\\u0430\\u0435\\u043c\\u044b\\u0439\",\"\\u0442\\u0440\\u0435\\u0431\\u043e\\u0432\\u0430\\u043d\\u0438\\u0435\",\"\\u043f\\u043e\\u043b\\u043e\\u0436\\u0438\\u0442\\u0435\\u043b\\u044c\\u043d\\u044b\\u0439\",\"\\u0442\\u0435\\u0445\\u043d\\u0438\\u0447\\u0435\\u0441\\u043a\\u0438\\u0439\",\"\\u0443\\u0432\\u0438\\u0434\\u0435\\u0442\\u044c\",\"\\u043f\\u043e\\u043f\\u044b\\u0442\\u043a\\u0430\",\"\\u0444\\u043e\\u0440\\u043c\\u0430\",\"\\u043f\\u0440\\u043e\\u0434\\u0443\\u043a\\u0442\",\"\\u0432\\u044b\\u044f\\u0441\\u043d\\u044f\\u0442\\u044c\",\"\\u043d\\u0435\\u043a\\u043e\\u0442\\u043e\\u0440\\u044b\\u0439\",\"\\u0432\\u043e\\u0437\\u043c\\u043e\\u0436\\u043d\\u043e\",\"\\u043f\\u043e\\u044f\\u0432\\u043b\\u044f\\u0442\\u044c\\u0441\\u044f\",\"\\u0444\\u0435\\u0432\\u0440\\u0430\\u043b\\u044c\",\"\\u043d\\u043e\\u044f\\u0431\\u0440\\u044c\",\"\\u0442\\u0440\\u0435\\u0442\\u0438\\u0439\",\"\\u043a\\u0430\\u0447\\u0435\\u0441\\u0442\\u0432\\u043e\",\"\\u043a\\u0432\\u0430\\u0440\\u0442\\u0438\\u0440\\u0430\",\"\\u043b\\u0430\\u0434\\u043d\\u043e\",\"\\u043a\\u0440\\u043e\\u043c\\u0435\",\"\\u0443\\u043a\\u0430\\u0437\\u0430\\u043d\\u043d\\u044b\\u0439\",\"\\u0433\\u043e\\u0434\\u043e\\u0432\\u043e\\u0439\",\"\\u0437\\u0430\\u043a\\u0430\\u043d\\u0447\\u0438\\u0432\\u0430\\u0442\\u044c\\u0441\\u044f\",\"\\u0432\\u0447\\u0435\\u0440\\u0430\",\"\\u043f\\u043e\\u0434\\u043e\\u0431\\u043d\\u044b\\u0439\",\"\\u043e\\u043a\\u0442\\u044f\\u0431\\u0440\\u044c\",\"\\u043f\\u043e\\u0437\\u0434\\u043d\\u043e\",\"\\u0447\\u0430\\u0441\\u0442\\u044c\",\"\\u043f\\u043e\\u0441\\u043c\\u043e\\u0442\\u0440\\u0435\\u0442\\u044c\",\"\\u0434\\u0435\\u0439\\u0441\\u0442\\u0432\\u0438\\u0442\\u0435\\u043b\\u044c\\u043d\\u043e\",\"\\u0441\\u043e\\u0436\\u0430\\u043b\\u0435\\u043d\\u0438\\u0435\",\"\\u0432\\u044b\\u0431\\u0438\\u0440\\u0430\\u0442\\u044c\",\"\\u043f\\u043e\\u043f\\u043e\\u043b\\u043d\\u044f\\u0442\\u044c\",\"\\u0443\\u0432\\u0435\\u0434\\u043e\\u043c\\u043b\\u0435\\u043d\\u0438\\u0435\",\"\\u043f\\u043b\\u0430\\u0442\\u0430\",\"\\u043f\\u043e\\u043f\\u0430\\u0434\\u0430\\u0442\\u044c\",\"\\u0441\\u0438\\u0434\\u0435\\u0442\\u044c\",\"\\u043e\\u0431\\u0449\\u0435\\u043d\\u0438\\u0435\",\"\\u0441\\u043e\\u0432\\u0435\\u0440\\u0448\\u0430\\u0442\\u044c\",\"\\u0432\\u0432\\u043e\\u0434\\u0438\\u0442\\u044c\",\"\\u0442\\u0440\\u0443\\u0431\\u043a\\u0430\",\"\\u043a\\u0443\\u043f\\u044e\\u0440\\u0430\",\"\\u0432\\u043e\\u0441\\u043f\\u043e\\u043b\\u044c\\u0437\\u043e\\u0432\\u0430\\u0442\\u044c\\u0441\\u044f\",\"\\u043f\\u043e\\u043c\\u043e\\u0449\\u044c\",\"\\u0430\\u0432\\u0433\\u0443\\u0441\\u0442\",\"\\u0440\\u0443\\u043a\\u043e\\u0432\\u043e\\u0434\\u0441\\u0442\\u0432\\u043e\",\"\\u0435\\u0445\\u0430\\u0442\\u044c\",\"\\u0434\\u0430\\u0432\\u043d\\u043e\",\"\\u043f\\u0440\\u0438\\u043c\\u0435\\u0440\\u043d\\u043e\",\"\\u0441\\u0435\\u043d\\u0442\\u044f\\u0431\\u0440\\u044c\",\"\\u043e\\u0442\\u0434\\u0430\\u0432\\u0430\\u0442\\u044c\",\"\\u043d\\u0430\\u0447\\u0430\\u043b\\u043e\",\"\\u043e\\u0431\\u0441\\u043b\\u0443\\u0436\\u0438\\u0432\\u0430\\u0442\\u044c\",\"\\u043f\\u0440\\u0438\\u0441\\u044b\\u043b\\u0430\\u0442\\u044c\",\"\\u043f\\u043e\\u0434\\u043e\\u0436\\u0434\\u0430\\u0442\\u044c\",\"\\u043e\\u0436\\u0438\\u0434\\u0430\\u043d\\u0438\\u0435\",\"\\u043a\\u0441\\u0442\\u0430\\u0442\\u0438\",\"\\u043d\\u0430\\u0447\\u0438\\u0441\\u043b\\u044f\\u0442\\u044c\",\"\\u0432\\u043f\\u0435\\u0447\\u0430\\u0442\\u043b\\u0435\\u043d\\u0438\\u0435\",\"\\u0433\\u0440\\u0430\\u0444\\u0438\\u043a\",\"\\u0437\\u0430\\u043d\\u0438\\u043c\\u0430\\u0442\\u044c\\u0441\\u044f\",\"\\u043e\\u0441\\u043d\\u043e\\u0432\\u0430\\u043d\\u0438\\u0435\",\"\\u0437\\u0430\\u043a\\u043e\\u043d\",\"\\u0435\\u0441\\u0442\\u0435\\u0441\\u0442\\u0432\\u0435\\u043d\\u043d\\u043e\",\"\\u0434\\u043e\\u0441\\u0442\\u0430\\u0442\\u043e\\u0447\\u043d\\u043e\",\"\\u0441\\u043e\\u0431\\u0438\\u0440\\u0430\\u0442\\u044c\\u0441\\u044f\",\"\\u043f\\u043e\\u0442\\u0440\\u0430\\u0442\\u0438\\u0442\\u044c\",\"\\u0431\\u0435\\u0437\\u043e\\u043f\\u0430\\u0441\\u043d\\u043e\\u0441\\u0442\\u044c\",\"\\u0437\\u0430\\u044f\\u0432\\u043b\\u044f\\u0442\\u044c\",\"\\u043f\\u043e\\u0441\\u0442\\u0430\\u0432\\u043b\\u044f\\u0442\\u044c\",\"\\u0437\\u0430\\u0447\\u0438\\u0441\\u043b\\u044f\\u0442\\u044c\",\"\\u0441\\u0442\\u0430\\u0440\\u044b\\u0439\",\"\\u0432\\u044b\\u043f\\u043e\\u043b\\u043d\\u044f\\u0442\\u044c\",\"\\u043f\\u043e\\u0441\\u043a\\u043e\\u043b\\u044c\\u043a\\u0443\",\"\\u0441\\u0442\\u0440\\u0430\\u0445\\u043e\\u0432\\u043e\\u0439\",\"\\u0432\\u0440\\u043e\\u0434\\u0435\",\"\\u043f\\u0440\\u043e\\u0438\\u0437\\u0432\\u043e\\u0434\\u0438\\u0442\\u044c\",\"\\u0435\\u0436\\u0435\\u043c\\u0435\\u0441\\u044f\\u0447\\u043d\\u044b\\u0439\",\"\\u0432\\u044b\\u043f\\u0443\\u0441\\u043a\\u0430\\u0442\\u044c\",\"\\u0437\\u0430\\u0431\\u044b\\u0432\\u0430\\u0442\\u044c\",\"\\u043f\\u043e\\u0442\\u0435\\u0440\\u044f\\u0442\\u044c\",\"\\u043f\\u043e\\u043b\\u043d\\u043e\\u0441\\u0442\\u044c\\u044e\",\"\\u043f\\u0440\\u0430\\u0432\\u0434\\u0430\",\"\\u043f\\u0435\\u0440\\u0435\\u0432\\u044b\\u043f\\u0443\\u0441\\u043a\",\"\\u043b\\u0438\\u0447\\u043d\\u043e\",\"\\u043c\\u0438\\u043d\\u0443\\u0441\",\"\\u0441\\u0443\\u0442\\u043a\\u0438\",\"\\u043e\\u0442\\u0441\\u0443\\u0442\\u0441\\u0442\\u0432\\u0438\\u0435\",\"\\u043f\\u0440\\u0438\\u0439\\u0442\\u0438\",\"\\u0442\\u0435\\u043a\\u0443\\u0449\\u0438\\u0439\",\"\\u0436\\u0438\\u0437\\u043d\\u044c\",\"\\u0444\\u0430\\u043c\\u0438\\u043b\\u0438\\u044f\",\"\\u0437\\u0430\\u0432\\u0442\\u0440\\u0430\",\"\\u0440\\u0443\\u043a\\u043e\\u0432\\u043e\\u0434\\u0438\\u0442\\u0435\\u043b\\u044c\",\"\\u0443\\u0441\\u0442\\u0440\\u0430\\u0438\\u0432\\u0430\\u0442\\u044c\",\"\\u0440\\u0430\\u043d\\u0435\\u0435\",\"\\u0443\\u0434\\u043e\\u0431\\u043d\\u043e\",\"\\u0431\\u0435\\u0441\\u043f\\u043b\\u0430\\u0442\\u043d\\u044b\\u0439\",\"\\u0432\\u0430\\u043b\\u044e\\u0442\\u0430\",\"\\u0440\\u0443\\u0441\\u0441\\u043a\\u0438\\u0439\",\"\\u043e\\u0431\\u0449\\u0430\\u0442\\u044c\\u0441\\u044f\",\"\\u0438\\u043f\\u043e\\u0442\\u0435\\u043a\\u0430\",\"\\u043f\\u043e\\u0441\\u0442\\u043e\\u044f\\u043d\\u043d\\u043e\",\"\\u0441\\u043a\\u043b\\u0430\\u0434\\u044b\\u0432\\u0430\\u0442\\u044c\\u0441\\u044f\",\"\\u043f\\u0440\\u0430\\u0432\\u0438\\u043b\\u043e\",\"\\u0435\\u0434\\u0438\\u043d\\u0441\\u0442\\u0432\\u0435\\u043d\\u043d\\u044b\\u0439\",\"\\u043f\\u0443\\u043d\\u043a\\u0442\",\"\\u043e\\u0431\\u043d\\u0430\\u0440\\u0443\\u0436\\u0438\\u0432\\u0430\\u0442\\u044c\",\"\\u043e\\u0431\\u0441\\u043b\\u0443\\u0436\\u0438\\u0432\\u0430\\u0442\\u044c\\u0441\\u044f\",\"\\u0431\\u0430\\u043b\\u0430\\u043d\\u0441\",\"\\u0441\\u0442\\u0430\\u043d\\u0434\\u0430\\u0440\\u0442\",\"\\u043e\\u043f\\u0435\\u0440\\u0430\\u0446\\u0438\\u043e\\u043d\\u0438\\u0441\\u0442\\u043a\\u0430\",\"\\u0441\\u0442\\u0430\\u043b\\u043a\\u0438\\u0432\\u0430\\u0442\\u044c\\u0441\\u044f\",\"\\u0437\\u0430\\u0434\\u0430\\u0432\\u0430\\u0442\\u044c\"],\"x1\":{\"__ndarray__\":\"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\",\"dtype\":\"float32\",\"shape\":[425]},\"x2\":{\"__ndarray__\":\"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\",\"dtype\":\"float32\",\"shape\":[425]}},\"selected\":{\"id\":\"1721\",\"type\":\"Selection\"},\"selection_policy\":{\"id\":\"1720\",\"type\":\"UnionRenderers\"}},\"id\":\"1665\",\"type\":\"ColumnDataSource\"},{\"attributes\":{},\"id\":\"1719\",\"type\":\"BasicTickFormatter\"},{\"attributes\":{\"plot\":null,\"text\":\"word2vec T-SNE for most common words\"},\"id\":\"1635\",\"type\":\"Title\"},{\"attributes\":{},\"id\":\"1720\",\"type\":\"UnionRenderers\"},{\"attributes\":{},\"id\":\"1721\",\"type\":\"Selection\"},{\"attributes\":{\"callback\":null},\"id\":\"1640\",\"type\":\"DataRange1d\"},{\"attributes\":{},\"id\":\"1647\",\"type\":\"BasicTicker\"},{\"attributes\":{},\"id\":\"1644\",\"type\":\"LinearScale\"},{\"attributes\":{\"fill_color\":{\"value\":\"#1f77b4\"},\"line_color\":{\"value\":\"#1f77b4\"},\"size\":{\"units\":\"screen\",\"value\":8},\"x\":{\"field\":\"x1\"},\"y\":{\"field\":\"x2\"}},\"id\":\"1667\",\"type\":\"Scatter\"},{\"attributes\":{},\"id\":\"1656\",\"type\":\"PanTool\"}],\"root_ids\":[\"1636\"]},\"title\":\"Bokeh Application\",\"version\":\"1.0.4\"}};\n",
       "  var render_items = [{\"docid\":\"10a76b73-9406-42fc-9794-c8333ac67ed4\",\"roots\":{\"1636\":\"2687d11e-452e-465f-9b33-4da1cf769602\"}}];\n",
       "  root.Bokeh.embed.embed_items_notebook(docs_json, render_items);\n",
       "\n",
       "  }\n",
       "  if (root.Bokeh !== undefined) {\n",
       "    embed_document(root);\n",
       "  } else {\n",
       "    var attempts = 0;\n",
       "    var timer = setInterval(function(root) {\n",
       "      if (root.Bokeh !== undefined) {\n",
       "        embed_document(root);\n",
       "        clearInterval(timer);\n",
       "      }\n",
       "      attempts++;\n",
       "      if (attempts > 100) {\n",
       "        console.log(\"Bokeh: ERROR: Unable to run BokehJS code because BokehJS library is missing\");\n",
       "        clearInterval(timer);\n",
       "      }\n",
       "    }, 10, root)\n",
       "  }\n",
       "})(window);"
      ],
      "application/vnd.bokehjs_exec.v0+json": ""
     },
     "metadata": {
      "application/vnd.bokehjs_exec.v0+json": {
       "id": "1636"
      }
     },
     "output_type": "display_data"
    }
   ],
   "source": [
    "from bokeh.models import ColumnDataSource, LabelSet\n",
    "from bokeh.plotting import figure, show, output_file\n",
    "from bokeh.io import output_notebook\n",
    "output_notebook()\n",
    "\n",
    "p = figure(tools=\"pan,wheel_zoom,reset,save\",\n",
    "           toolbar_location=\"above\",\n",
    "           title=\"word2vec T-SNE for most common words\")\n",
    "\n",
    "source = ColumnDataSource(data=dict(x1=top_words_tsne[:,0],\n",
    "                                    x2=top_words_tsne[:,1],\n",
    "                                    names=top_words))\n",
    "\n",
    "p.scatter(x=\"x1\", y=\"x2\", size=8, source=source)\n",
    "\n",
    "labels = LabelSet(x=\"x1\", y=\"x2\", text=\"names\", y_offset=6,\n",
    "                  text_font_size=\"8pt\", text_color=\"#555555\",\n",
    "                  source=source, text_align='center')\n",
    "p.add_layout(labels)\n",
    "\n",
    "show(p)"
   ]
  },
  {
   "cell_type": "markdown",
   "metadata": {},
   "source": [
    "Хорошо виден кластер с названиями месяцов.\n",
    "\n",
    "Определятся кластер \"сотрудники банка\": кассир, менеджер, представитель и т.д.\n",
    "\n",
    "Кластер про снятие денег.\n",
    "\n",
    "Кластер про оплаты-погашения.\n",
    "\n",
    "Кластеры про оформление (кредита) и про выдачу находятся рядом."
   ]
  },
  {
   "cell_type": "markdown",
   "metadata": {},
   "source": [
    "задайте координаты для нового пространства следующим образом: одна ось описывает отношение \"плохо – хорошо\", вторая – \"медленно – быстро\" и найдите координаты названий банков в этих координатах. Более формально: берем вектор слова \"хорошо\", вычитаем из него вектор слова \"плохо\", получаем новый вектор, который описывает разницу между хорошими и плохими словами. Берем вектор слова \"сбербанк\" и умножаем его на этот новый вектор – получаем координату по первой оси. Аналогично – для второй оси. Две координаты уже можно нарисовать на плоскости."
   ]
  },
  {
   "cell_type": "code",
   "execution_count": 149,
   "metadata": {},
   "outputs": [
    {
     "data": {
      "text/plain": [
       "670"
      ]
     },
     "execution_count": 149,
     "metadata": {},
     "output_type": "execute_result"
    }
   ],
   "source": [
    "# достанем названия банков\n",
    "df_banks = pd.DataFrame(data=df.bank_name.unique(), columns=['bank'])\n",
    "len(df_banks)"
   ]
  },
  {
   "cell_type": "code",
   "execution_count": 166,
   "metadata": {},
   "outputs": [],
   "source": [
    "def has_vector(word, word2vec=w2vec):\n",
    "    try:\n",
    "        return word2vec.wv[word.lower()]\n",
    "    except:\n",
    "        return None"
   ]
  },
  {
   "cell_type": "code",
   "execution_count": 153,
   "metadata": {},
   "outputs": [
    {
     "data": {
      "application/vnd.jupyter.widget-view+json": {
       "model_id": "3d8339c3f3434e5a8b3ea4a80ebc8171",
       "version_major": 2,
       "version_minor": 0
      },
      "text/plain": [
       "HBox(children=(IntProgress(value=0, max=670), HTML(value='')))"
      ]
     },
     "metadata": {},
     "output_type": "display_data"
    },
    {
     "name": "stdout",
     "output_type": "stream",
     "text": [
      "\n"
     ]
    },
    {
     "name": "stderr",
     "output_type": "stream",
     "text": [
      "/mnt/c/linux-venv/nlp/lib/python3.6/site-packages/ipykernel_launcher.py:3: DeprecationWarning: Call to deprecated `__getitem__` (Method will be removed in 4.0.0, use self.wv.__getitem__() instead).\n",
      "  This is separate from the ipykernel package so we can avoid doing imports until\n"
     ]
    }
   ],
   "source": [
    "df_banks['vec'] = df_banks['bank'].progress_apply(has_vector)"
   ]
  },
  {
   "cell_type": "code",
   "execution_count": 155,
   "metadata": {},
   "outputs": [
    {
     "data": {
      "text/html": [
       "<div>\n",
       "<style scoped>\n",
       "    .dataframe tbody tr th:only-of-type {\n",
       "        vertical-align: middle;\n",
       "    }\n",
       "\n",
       "    .dataframe tbody tr th {\n",
       "        vertical-align: top;\n",
       "    }\n",
       "\n",
       "    .dataframe thead th {\n",
       "        text-align: right;\n",
       "    }\n",
       "</style>\n",
       "<table border=\"1\" class=\"dataframe\">\n",
       "  <thead>\n",
       "    <tr style=\"text-align: right;\">\n",
       "      <th></th>\n",
       "      <th>bank</th>\n",
       "      <th>vec</th>\n",
       "    </tr>\n",
       "  </thead>\n",
       "  <tbody>\n",
       "    <tr>\n",
       "      <th>0</th>\n",
       "      <td>Бинбанк</td>\n",
       "      <td>[0.57094973, -0.43747774, -1.574692, 0.5934915...</td>\n",
       "    </tr>\n",
       "    <tr>\n",
       "      <th>1</th>\n",
       "      <td>Сбербанк России</td>\n",
       "      <td>None</td>\n",
       "    </tr>\n",
       "    <tr>\n",
       "      <th>2</th>\n",
       "      <td>ОТП Банк</td>\n",
       "      <td>None</td>\n",
       "    </tr>\n",
       "    <tr>\n",
       "      <th>3</th>\n",
       "      <td>Гагаринский</td>\n",
       "      <td>[-0.43705383, -0.4302912, 0.011781587, 0.33763...</td>\n",
       "    </tr>\n",
       "    <tr>\n",
       "      <th>4</th>\n",
       "      <td>Тинькофф Банк</td>\n",
       "      <td>None</td>\n",
       "    </tr>\n",
       "  </tbody>\n",
       "</table>\n",
       "</div>"
      ],
      "text/plain": [
       "              bank                                                vec\n",
       "0          Бинбанк  [0.57094973, -0.43747774, -1.574692, 0.5934915...\n",
       "1  Сбербанк России                                               None\n",
       "2         ОТП Банк                                               None\n",
       "3      Гагаринский  [-0.43705383, -0.4302912, 0.011781587, 0.33763...\n",
       "4    Тинькофф Банк                                               None"
      ]
     },
     "execution_count": 155,
     "metadata": {},
     "output_type": "execute_result"
    }
   ],
   "source": [
    "df_banks.head()"
   ]
  },
  {
   "cell_type": "code",
   "execution_count": 169,
   "metadata": {},
   "outputs": [
    {
     "data": {
      "application/vnd.jupyter.widget-view+json": {
       "model_id": "89a65fb10ab44a2b9a5e73d10410f0d5",
       "version_major": 2,
       "version_minor": 0
      },
      "text/plain": [
       "HBox(children=(IntProgress(value=0, max=16), HTML(value='')))"
      ]
     },
     "metadata": {},
     "output_type": "display_data"
    },
    {
     "name": "stdout",
     "output_type": "stream",
     "text": [
      "\n"
     ]
    },
    {
     "data": {
      "text/html": [
       "<div>\n",
       "<style scoped>\n",
       "    .dataframe tbody tr th:only-of-type {\n",
       "        vertical-align: middle;\n",
       "    }\n",
       "\n",
       "    .dataframe tbody tr th {\n",
       "        vertical-align: top;\n",
       "    }\n",
       "\n",
       "    .dataframe thead th {\n",
       "        text-align: right;\n",
       "    }\n",
       "</style>\n",
       "<table border=\"1\" class=\"dataframe\">\n",
       "  <thead>\n",
       "    <tr style=\"text-align: right;\">\n",
       "      <th></th>\n",
       "      <th>bank</th>\n",
       "      <th>vec</th>\n",
       "    </tr>\n",
       "  </thead>\n",
       "  <tbody>\n",
       "    <tr>\n",
       "      <th>0</th>\n",
       "      <td>сбер</td>\n",
       "      <td>[0.073749, -1.2435058, -1.7942547, 0.2753542, ...</td>\n",
       "    </tr>\n",
       "    <tr>\n",
       "      <th>1</th>\n",
       "      <td>сбербанк</td>\n",
       "      <td>[-0.24204198, -0.75055695, -3.0162466, 0.12525...</td>\n",
       "    </tr>\n",
       "    <tr>\n",
       "      <th>2</th>\n",
       "      <td>альфа</td>\n",
       "      <td>[0.48206225, 1.0822564, 0.6130499, -0.23924765...</td>\n",
       "    </tr>\n",
       "    <tr>\n",
       "      <th>3</th>\n",
       "      <td>втб</td>\n",
       "      <td>[0.8892034, -0.39666823, -1.7017446, -0.183308...</td>\n",
       "    </tr>\n",
       "    <tr>\n",
       "      <th>4</th>\n",
       "      <td>тинькофф</td>\n",
       "      <td>[0.5243615, 1.2286862, -3.3026578, -0.39823803...</td>\n",
       "    </tr>\n",
       "    <tr>\n",
       "      <th>5</th>\n",
       "      <td>райффайзенбанк</td>\n",
       "      <td>[1.0115553, -0.651238, -1.9224511, 0.6155286, ...</td>\n",
       "    </tr>\n",
       "    <tr>\n",
       "      <th>6</th>\n",
       "      <td>траст</td>\n",
       "      <td>[-0.17426233, 0.9218389, -1.3105772, -1.587418...</td>\n",
       "    </tr>\n",
       "    <tr>\n",
       "      <th>7</th>\n",
       "      <td>ренессанс</td>\n",
       "      <td>[0.31311297, 0.48746285, 0.18688738, 0.9665503...</td>\n",
       "    </tr>\n",
       "    <tr>\n",
       "      <th>8</th>\n",
       "      <td>связной</td>\n",
       "      <td>[-1.3713286, 0.33701077, 1.6103327, 0.6588298,...</td>\n",
       "    </tr>\n",
       "    <tr>\n",
       "      <th>9</th>\n",
       "      <td>юникредит</td>\n",
       "      <td>[1.1958838, -0.08066127, -1.172173, 0.46789005...</td>\n",
       "    </tr>\n",
       "    <tr>\n",
       "      <th>10</th>\n",
       "      <td>авангард</td>\n",
       "      <td>[-0.87371933, -0.04738904, -1.8461189, 1.71914...</td>\n",
       "    </tr>\n",
       "    <tr>\n",
       "      <th>11</th>\n",
       "      <td>промсвязьбанк</td>\n",
       "      <td>[1.4135038, -0.018160293, -1.7178216, 0.086529...</td>\n",
       "    </tr>\n",
       "    <tr>\n",
       "      <th>12</th>\n",
       "      <td>хоум</td>\n",
       "      <td>[0.39354992, 1.0107491, 0.65947145, 0.96801674...</td>\n",
       "    </tr>\n",
       "    <tr>\n",
       "      <th>13</th>\n",
       "      <td>киви</td>\n",
       "      <td>[0.9325115, 1.643894, -2.4590688, -1.7047415, ...</td>\n",
       "    </tr>\n",
       "    <tr>\n",
       "      <th>14</th>\n",
       "      <td>росбанк</td>\n",
       "      <td>[0.6744369, -0.72328687, -0.2275854, 0.6102881...</td>\n",
       "    </tr>\n",
       "    <tr>\n",
       "      <th>15</th>\n",
       "      <td>бинбанк</td>\n",
       "      <td>[0.57094973, -0.43747774, -1.574692, 0.5934915...</td>\n",
       "    </tr>\n",
       "  </tbody>\n",
       "</table>\n",
       "</div>"
      ],
      "text/plain": [
       "              bank                                                vec\n",
       "0             сбер  [0.073749, -1.2435058, -1.7942547, 0.2753542, ...\n",
       "1         сбербанк  [-0.24204198, -0.75055695, -3.0162466, 0.12525...\n",
       "2            альфа  [0.48206225, 1.0822564, 0.6130499, -0.23924765...\n",
       "3              втб  [0.8892034, -0.39666823, -1.7017446, -0.183308...\n",
       "4         тинькофф  [0.5243615, 1.2286862, -3.3026578, -0.39823803...\n",
       "5   райффайзенбанк  [1.0115553, -0.651238, -1.9224511, 0.6155286, ...\n",
       "6            траст  [-0.17426233, 0.9218389, -1.3105772, -1.587418...\n",
       "7        ренессанс  [0.31311297, 0.48746285, 0.18688738, 0.9665503...\n",
       "8          связной  [-1.3713286, 0.33701077, 1.6103327, 0.6588298,...\n",
       "9        юникредит  [1.1958838, -0.08066127, -1.172173, 0.46789005...\n",
       "10        авангард  [-0.87371933, -0.04738904, -1.8461189, 1.71914...\n",
       "11   промсвязьбанк  [1.4135038, -0.018160293, -1.7178216, 0.086529...\n",
       "12            хоум  [0.39354992, 1.0107491, 0.65947145, 0.96801674...\n",
       "13            киви  [0.9325115, 1.643894, -2.4590688, -1.7047415, ...\n",
       "14         росбанк  [0.6744369, -0.72328687, -0.2275854, 0.6102881...\n",
       "15         бинбанк  [0.57094973, -0.43747774, -1.574692, 0.5934915..."
      ]
     },
     "execution_count": 169,
     "metadata": {},
     "output_type": "execute_result"
    }
   ],
   "source": [
    "# результат как-то не очень, надо обрабатывать вручную почти каждый банк. Воспользьуемся топом банков из прошлого дз, причем возьмем только те, название которых из одного слова или сводится к нему.\n",
    "banks = ['сбер', 'сбербанк', 'альфа', 'втб', 'тинькофф', 'райффайзенбанк', 'траст', 'ренессанс', 'связной', 'юникредит', 'авангард', 'промсвязьбанк', 'хоум', 'киви', 'росбанк', 'бинбанк']\n",
    "df_banks = pd.DataFrame(data=banks, columns=['bank'])\n",
    "df_banks['vec'] = df_banks['bank'].progress_apply(has_vector)\n",
    "df_banks"
   ]
  },
  {
   "cell_type": "code",
   "execution_count": 173,
   "metadata": {},
   "outputs": [],
   "source": [
    "x_from = w2vec.wv['плохо']\n",
    "x_to = w2vec.wv['хорошо']\n",
    "y_from = w2vec.wv['медленно']\n",
    "y_to = w2vec.wv['быстро']"
   ]
  },
  {
   "cell_type": "code",
   "execution_count": null,
   "metadata": {},
   "outputs": [],
   "source": []
  },
  {
   "cell_type": "code",
   "execution_count": 177,
   "metadata": {},
   "outputs": [
    {
     "data": {
      "text/html": [
       "<div>\n",
       "<style scoped>\n",
       "    .dataframe tbody tr th:only-of-type {\n",
       "        vertical-align: middle;\n",
       "    }\n",
       "\n",
       "    .dataframe tbody tr th {\n",
       "        vertical-align: top;\n",
       "    }\n",
       "\n",
       "    .dataframe thead th {\n",
       "        text-align: right;\n",
       "    }\n",
       "</style>\n",
       "<table border=\"1\" class=\"dataframe\">\n",
       "  <thead>\n",
       "    <tr style=\"text-align: right;\">\n",
       "      <th></th>\n",
       "      <th>bank</th>\n",
       "      <th>vec</th>\n",
       "      <th>x</th>\n",
       "      <th>y</th>\n",
       "    </tr>\n",
       "  </thead>\n",
       "  <tbody>\n",
       "    <tr>\n",
       "      <th>0</th>\n",
       "      <td>сбер</td>\n",
       "      <td>[0.073749, -1.2435058, -1.7942547, 0.2753542, ...</td>\n",
       "      <td>-24.431461</td>\n",
       "      <td>1.370444</td>\n",
       "    </tr>\n",
       "    <tr>\n",
       "      <th>1</th>\n",
       "      <td>сбербанк</td>\n",
       "      <td>[-0.24204198, -0.75055695, -3.0162466, 0.12525...</td>\n",
       "      <td>-9.252349</td>\n",
       "      <td>8.609512</td>\n",
       "    </tr>\n",
       "    <tr>\n",
       "      <th>2</th>\n",
       "      <td>альфа</td>\n",
       "      <td>[0.48206225, 1.0822564, 0.6130499, -0.23924765...</td>\n",
       "      <td>14.899559</td>\n",
       "      <td>24.394972</td>\n",
       "    </tr>\n",
       "    <tr>\n",
       "      <th>3</th>\n",
       "      <td>втб</td>\n",
       "      <td>[0.8892034, -0.39666823, -1.7017446, -0.183308...</td>\n",
       "      <td>-2.561032</td>\n",
       "      <td>16.627838</td>\n",
       "    </tr>\n",
       "    <tr>\n",
       "      <th>4</th>\n",
       "      <td>тинькофф</td>\n",
       "      <td>[0.5243615, 1.2286862, -3.3026578, -0.39823803...</td>\n",
       "      <td>-3.931417</td>\n",
       "      <td>45.333546</td>\n",
       "    </tr>\n",
       "    <tr>\n",
       "      <th>5</th>\n",
       "      <td>райффайзенбанк</td>\n",
       "      <td>[1.0115553, -0.651238, -1.9224511, 0.6155286, ...</td>\n",
       "      <td>2.065663</td>\n",
       "      <td>-1.584830</td>\n",
       "    </tr>\n",
       "    <tr>\n",
       "      <th>6</th>\n",
       "      <td>траст</td>\n",
       "      <td>[-0.17426233, 0.9218389, -1.3105772, -1.587418...</td>\n",
       "      <td>-3.881114</td>\n",
       "      <td>23.265673</td>\n",
       "    </tr>\n",
       "    <tr>\n",
       "      <th>7</th>\n",
       "      <td>ренессанс</td>\n",
       "      <td>[0.31311297, 0.48746285, 0.18688738, 0.9665503...</td>\n",
       "      <td>10.474710</td>\n",
       "      <td>16.195784</td>\n",
       "    </tr>\n",
       "    <tr>\n",
       "      <th>8</th>\n",
       "      <td>связной</td>\n",
       "      <td>[-1.3713286, 0.33701077, 1.6103327, 0.6588298,...</td>\n",
       "      <td>8.416026</td>\n",
       "      <td>36.754158</td>\n",
       "    </tr>\n",
       "    <tr>\n",
       "      <th>9</th>\n",
       "      <td>юникредит</td>\n",
       "      <td>[1.1958838, -0.08066127, -1.172173, 0.46789005...</td>\n",
       "      <td>3.831338</td>\n",
       "      <td>29.463585</td>\n",
       "    </tr>\n",
       "    <tr>\n",
       "      <th>10</th>\n",
       "      <td>авангард</td>\n",
       "      <td>[-0.87371933, -0.04738904, -1.8461189, 1.71914...</td>\n",
       "      <td>-1.684147</td>\n",
       "      <td>19.669060</td>\n",
       "    </tr>\n",
       "    <tr>\n",
       "      <th>11</th>\n",
       "      <td>промсвязьбанк</td>\n",
       "      <td>[1.4135038, -0.018160293, -1.7178216, 0.086529...</td>\n",
       "      <td>9.095056</td>\n",
       "      <td>-1.230215</td>\n",
       "    </tr>\n",
       "    <tr>\n",
       "      <th>12</th>\n",
       "      <td>хоум</td>\n",
       "      <td>[0.39354992, 1.0107491, 0.65947145, 0.96801674...</td>\n",
       "      <td>8.120152</td>\n",
       "      <td>3.422774</td>\n",
       "    </tr>\n",
       "    <tr>\n",
       "      <th>13</th>\n",
       "      <td>киви</td>\n",
       "      <td>[0.9325115, 1.643894, -2.4590688, -1.7047415, ...</td>\n",
       "      <td>-8.786082</td>\n",
       "      <td>16.023149</td>\n",
       "    </tr>\n",
       "    <tr>\n",
       "      <th>14</th>\n",
       "      <td>росбанк</td>\n",
       "      <td>[0.6744369, -0.72328687, -0.2275854, 0.6102881...</td>\n",
       "      <td>-1.574471</td>\n",
       "      <td>-8.315885</td>\n",
       "    </tr>\n",
       "    <tr>\n",
       "      <th>15</th>\n",
       "      <td>бинбанк</td>\n",
       "      <td>[0.57094973, -0.43747774, -1.574692, 0.5934915...</td>\n",
       "      <td>1.617810</td>\n",
       "      <td>-1.781189</td>\n",
       "    </tr>\n",
       "  </tbody>\n",
       "</table>\n",
       "</div>"
      ],
      "text/plain": [
       "              bank                                                vec  \\\n",
       "0             сбер  [0.073749, -1.2435058, -1.7942547, 0.2753542, ...   \n",
       "1         сбербанк  [-0.24204198, -0.75055695, -3.0162466, 0.12525...   \n",
       "2            альфа  [0.48206225, 1.0822564, 0.6130499, -0.23924765...   \n",
       "3              втб  [0.8892034, -0.39666823, -1.7017446, -0.183308...   \n",
       "4         тинькофф  [0.5243615, 1.2286862, -3.3026578, -0.39823803...   \n",
       "5   райффайзенбанк  [1.0115553, -0.651238, -1.9224511, 0.6155286, ...   \n",
       "6            траст  [-0.17426233, 0.9218389, -1.3105772, -1.587418...   \n",
       "7        ренессанс  [0.31311297, 0.48746285, 0.18688738, 0.9665503...   \n",
       "8          связной  [-1.3713286, 0.33701077, 1.6103327, 0.6588298,...   \n",
       "9        юникредит  [1.1958838, -0.08066127, -1.172173, 0.46789005...   \n",
       "10        авангард  [-0.87371933, -0.04738904, -1.8461189, 1.71914...   \n",
       "11   промсвязьбанк  [1.4135038, -0.018160293, -1.7178216, 0.086529...   \n",
       "12            хоум  [0.39354992, 1.0107491, 0.65947145, 0.96801674...   \n",
       "13            киви  [0.9325115, 1.643894, -2.4590688, -1.7047415, ...   \n",
       "14         росбанк  [0.6744369, -0.72328687, -0.2275854, 0.6102881...   \n",
       "15         бинбанк  [0.57094973, -0.43747774, -1.574692, 0.5934915...   \n",
       "\n",
       "            x          y  \n",
       "0  -24.431461   1.370444  \n",
       "1   -9.252349   8.609512  \n",
       "2   14.899559  24.394972  \n",
       "3   -2.561032  16.627838  \n",
       "4   -3.931417  45.333546  \n",
       "5    2.065663  -1.584830  \n",
       "6   -3.881114  23.265673  \n",
       "7   10.474710  16.195784  \n",
       "8    8.416026  36.754158  \n",
       "9    3.831338  29.463585  \n",
       "10  -1.684147  19.669060  \n",
       "11   9.095056  -1.230215  \n",
       "12   8.120152   3.422774  \n",
       "13  -8.786082  16.023149  \n",
       "14  -1.574471  -8.315885  \n",
       "15   1.617810  -1.781189  "
      ]
     },
     "execution_count": 177,
     "metadata": {},
     "output_type": "execute_result"
    }
   ],
   "source": [
    "df_banks['x'] = df_banks['vec'].apply(lambda v: v.dot(x_to - x_from))\n",
    "df_banks['y'] = df_banks['vec'].apply(lambda v: v.dot(y_to - y_from))\n",
    "df_banks"
   ]
  },
  {
   "cell_type": "code",
   "execution_count": 187,
   "metadata": {},
   "outputs": [
    {
     "data": {
      "image/png": "[encoded data removed]",
      "text/plain": [
       "<Figure size 864x432 with 1 Axes>"
      ]
     },
     "metadata": {
      "needs_background": "light"
     },
     "output_type": "display_data"
    }
   ],
   "source": [
    "fig = plt.figure(figsize=(12, 6))\n",
    "ax = fig.add_subplot(1,1,1)\n",
    "\n",
    "for i in range(len(df_banks)):\n",
    "    x, y, text = df_banks.iloc[i]['x'], df_banks.iloc[i]['y'], df_banks.iloc[i]['bank']\n",
    "    ax.scatter(x, y)\n",
    "    ax.text(x, y, text)\n",
    "\n",
    "ax.set_xlabel('плохо ---> хорошо')\n",
    "ax.set_ylabel('медленно ---> быстро')\n",
    "\n",
    "plt.show()"
   ]
  },
  {
   "cell_type": "markdown",
   "metadata": {},
   "source": [
    "Самый шустрый - тинькофф, самый тормозной - росбанк, самый хороший - альфа, ну а сбер хуже всех, даже хуже сбербанка"
   ]
  },
  {
   "cell_type": "markdown",
   "metadata": {},
   "source": [
    "## Часть 2. Распространение метки [50 баллов]\n",
    "\n",
    "Определите 5-8 позитивных слов (например, “быстрый”, “удобный”) и 5-8  негативных слов (например,“очередь”, “медленно”). Эти слова будут основной будущего оценочного словаря. Пусть позитивному классу соответствует метка 1, негативному – -1. Пометьте выбранные слова в лексическом графе соответствующими метками. Запустите любой известный вам метод распространения метки (Label Propogation) в лексическом графе. На выходе метода распространения ошибки должны быть новые слова, помеченные метками 1 и -1 – это и есть искомые оценочные слова.\n",
    "\n",
    "Алгоритмы распространения метки устроены примерно так: пусть мы находимся в выршине, помеченном +1. С какой-то вероятностью мы переносим эту метку на соседние узлы. С меньшей вероятностью переносим ее на вершины на расстоянии два. В конце распространения метки, часть вершин оказывается помечена меткой +1, часть – -1, большая часть остается без метки.\n",
    "\n",
    "Рекомендуемые алгоритмы распространения метки:\n",
    "1. ```graphlab.label_propagation``` (```graphlab``` доступен бесплатно по образовательной лицензии)\n",
    "2. ```sklearn.semi_supervised.LabelPropagation``` \n",
    "3. ```sklearn.semi_supervised.LabelSpreading```"
   ]
  },
  {
   "cell_type": "code",
   "execution_count": 193,
   "metadata": {},
   "outputs": [],
   "source": [
    "import random"
   ]
  },
  {
   "cell_type": "code",
   "execution_count": 217,
   "metadata": {},
   "outputs": [
    {
     "data": {
      "text/plain": [
       "[('доброжелательный', 1),\n",
       " ('обходительный', 1),\n",
       " ('высота', 1),\n",
       " ('профессиональный', 1),\n",
       " ('толпа', -1),\n",
       " ('шустро', -1),\n",
       " ('безответственный', -1),\n",
       " ('высокотехнологичный', -1),\n",
       " ('деревенский', -1),\n",
       " ('преднамеренный', -1),\n",
       " ('лох', -1)]"
      ]
     },
     "execution_count": 217,
     "metadata": {},
     "output_type": "execute_result"
    }
   ],
   "source": [
    "positive_words_start = ['быстрый', 'удобный', 'вежливый', 'качественный', 'комфортный', 'грамотный']\n",
    "negative_words_start = ['очередь', 'медленно', 'отвратительный', 'совковый', 'обман', 'развод']\n",
    "\n",
    "nodes = [(w, 1) for w in positive_words_start] + [(w, -1) for w in negative_words_start]\n",
    "new_nodes = []\n",
    "random.seed(42)\n",
    "for word, lbl in nodes:\n",
    "    for sim_word, weight in w2vec.wv.most_similar(word):\n",
    "        r = random.random()\n",
    "        if (weight + r) - weight * r > 0.97:\n",
    "            new_nodes.append((sim_word, lbl))\n",
    "\n",
    "new_nodes"
   ]
  },
  {
   "cell_type": "code",
   "execution_count": 212,
   "metadata": {},
   "outputs": [],
   "source": [
    "nodes = new_nodes"
   ]
  },
  {
   "cell_type": "code",
   "execution_count": 247,
   "metadata": {},
   "outputs": [],
   "source": [
    "positive_words = ['быстрый', 'удобный', 'вежливый', 'качественный', 'комфортный', 'грамотный']\n",
    "negative_words = ['очередь', 'медленно', 'отвратительный', 'совковый', 'обман', 'развод']\n",
    "\n",
    "nodes = [(w, 1) for w in positive_words] + [(w, -1) for w in negative_words]\n",
    "\n",
    "g = ig.Graph(directed=True)\n",
    "\n",
    "random.seed(42)\n",
    "\n",
    "threshold = 0.95\n",
    "\n",
    "processed_words = positive_words + negative_words\n",
    "\n",
    "for word, label in nodes:\n",
    "    g.add_vertex(word, label=label)\n",
    "\n",
    "while len(nodes) > 0:\n",
    "    new_nodes = []\n",
    "\n",
    "    for word, label in nodes:\n",
    "        src_node = g.vs.select(name = word).indices[0]\n",
    "\n",
    "        for sim_word, weight in w2vec.wv.most_similar(word):\n",
    "            if sim_word not in processed_words:\n",
    "                r = random.random()\n",
    "                if (weight + r) - weight * r > threshold:\n",
    "                    new_nodes.append((sim_word, label))\n",
    "                    processed_words.append(word)\n",
    "                    if label == 1:\n",
    "                        positive_words.append(sim_word)\n",
    "                    else:\n",
    "                        negative_words.append(sim_word)\n",
    "                    \n",
    "                    g.add_vertex(sim_word, label=label)\n",
    "                    trg_node = g.vs.select(name = sim_word).indices[0]\n",
    "                    g.add_edge(src_node, trg_node, label = lbl)\n",
    "    nodes = new_nodes"
   ]
  },
  {
   "cell_type": "code",
   "execution_count": 248,
   "metadata": {},
   "outputs": [
    {
     "name": "stdout",
     "output_type": "stream",
     "text": [
      "Total words: 17204, positive words: 5492, negative_words: 3860\n"
     ]
    }
   ],
   "source": [
    "print(f\"Total words: {len(w2vec.wv.vocab.keys())}, positive words: {len(positive_words)}, negative_words: {len(negative_words)}\")"
   ]
  },
  {
   "cell_type": "code",
   "execution_count": null,
   "metadata": {},
   "outputs": [],
   "source": []
  }
 ],
 "metadata": {
  "kernelspec": {
   "display_name": "Python 3",
   "language": "python",
   "name": "python3"
  },
  "language_info": {
   "codemirror_mode": {
    "name": "ipython",
    "version": 3
   },
   "file_extension": ".py",
   "mimetype": "text/x-python",
   "name": "python",
   "nbconvert_exporter": "python",
   "pygments_lexer": "ipython3",
   "version": "3.6.7"
  }
 },
 "nbformat": 4,
 "nbformat_minor": 2
}
